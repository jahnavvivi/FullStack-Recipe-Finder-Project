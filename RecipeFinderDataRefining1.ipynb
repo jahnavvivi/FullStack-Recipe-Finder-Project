{
  "nbformat": 4,
  "nbformat_minor": 0,
  "metadata": {
    "colab": {
      "provenance": [],
      "authorship_tag": "ABX9TyP54V0maslTnl6NY+6YcaTj",
      "include_colab_link": true
    },
    "kernelspec": {
      "name": "python3",
      "display_name": "Python 3"
    },
    "language_info": {
      "name": "python"
    }
  },
  "cells": [
    {
      "cell_type": "markdown",
      "metadata": {
        "id": "view-in-github",
        "colab_type": "text"
      },
      "source": [
        "<a href=\"https://colab.research.google.com/github/jahnavvivi/FullStack-Recipe-Finder-Project/blob/main/RecipeFinderDataRefining1.ipynb\" target=\"_parent\"><img src=\"https://colab.research.google.com/assets/colab-badge.svg\" alt=\"Open In Colab\"/></a>"
      ]
    },
    {
      "cell_type": "code",
      "execution_count": 3,
      "metadata": {
        "colab": {
          "base_uri": "https://localhost:8080/",
          "height": 1000
        },
        "id": "SsOxgMxZ9JnU",
        "outputId": "f05e44ae-f05e-4927-a34b-ccd032de763d"
      },
      "outputs": [
        {
          "output_type": "stream",
          "name": "stdout",
          "text": [
            "Requirement already satisfied: pandas in /usr/local/lib/python3.12/dist-packages (2.2.2)\n",
            "Collecting pandas\n",
            "  Downloading pandas-2.3.3-cp312-cp312-manylinux_2_24_x86_64.manylinux_2_28_x86_64.whl.metadata (91 kB)\n",
            "\u001b[2K     \u001b[90m━━━━━━━━━━━━━━━━━━━━━━━━━━━━━━━━━━━━━━━━\u001b[0m \u001b[32m91.2/91.2 kB\u001b[0m \u001b[31m3.8 MB/s\u001b[0m eta \u001b[36m0:00:00\u001b[0m\n",
            "\u001b[?25hRequirement already satisfied: sentence-transformers in /usr/local/lib/python3.12/dist-packages (5.1.1)\n",
            "Collecting sentence-transformers\n",
            "  Downloading sentence_transformers-5.1.2-py3-none-any.whl.metadata (16 kB)\n",
            "Requirement already satisfied: gradio in /usr/local/lib/python3.12/dist-packages (4.19.1)\n",
            "Collecting gradio\n",
            "  Downloading gradio-5.49.1-py3-none-any.whl.metadata (16 kB)\n",
            "Requirement already satisfied: googletrans==4.0.0-rc1 in /usr/local/lib/python3.12/dist-packages (4.0.0rc1)\n",
            "Requirement already satisfied: httpx==0.13.3 in /usr/local/lib/python3.12/dist-packages (from googletrans==4.0.0-rc1) (0.13.3)\n",
            "Requirement already satisfied: certifi in /usr/local/lib/python3.12/dist-packages (from httpx==0.13.3->googletrans==4.0.0-rc1) (2025.10.5)\n",
            "Requirement already satisfied: hstspreload in /usr/local/lib/python3.12/dist-packages (from httpx==0.13.3->googletrans==4.0.0-rc1) (2025.1.1)\n",
            "Requirement already satisfied: sniffio in /usr/local/lib/python3.12/dist-packages (from httpx==0.13.3->googletrans==4.0.0-rc1) (1.3.1)\n",
            "Requirement already satisfied: chardet==3.* in /usr/local/lib/python3.12/dist-packages (from httpx==0.13.3->googletrans==4.0.0-rc1) (3.0.4)\n",
            "Requirement already satisfied: idna==2.* in /usr/local/lib/python3.12/dist-packages (from httpx==0.13.3->googletrans==4.0.0-rc1) (2.10)\n",
            "Requirement already satisfied: rfc3986<2,>=1.3 in /usr/local/lib/python3.12/dist-packages (from httpx==0.13.3->googletrans==4.0.0-rc1) (1.5.0)\n",
            "Requirement already satisfied: httpcore==0.9.* in /usr/local/lib/python3.12/dist-packages (from httpx==0.13.3->googletrans==4.0.0-rc1) (0.9.1)\n",
            "Requirement already satisfied: h11<0.10,>=0.8 in /usr/local/lib/python3.12/dist-packages (from httpcore==0.9.*->httpx==0.13.3->googletrans==4.0.0-rc1) (0.9.0)\n",
            "Requirement already satisfied: h2==3.* in /usr/local/lib/python3.12/dist-packages (from httpcore==0.9.*->httpx==0.13.3->googletrans==4.0.0-rc1) (3.2.0)\n",
            "Requirement already satisfied: hyperframe<6,>=5.2.0 in /usr/local/lib/python3.12/dist-packages (from h2==3.*->httpcore==0.9.*->httpx==0.13.3->googletrans==4.0.0-rc1) (5.2.0)\n",
            "Requirement already satisfied: hpack<4,>=3.0 in /usr/local/lib/python3.12/dist-packages (from h2==3.*->httpcore==0.9.*->httpx==0.13.3->googletrans==4.0.0-rc1) (3.0.0)\n",
            "Requirement already satisfied: numpy>=1.26.0 in /usr/local/lib/python3.12/dist-packages (from pandas) (1.26.4)\n",
            "Requirement already satisfied: python-dateutil>=2.8.2 in /usr/local/lib/python3.12/dist-packages (from pandas) (2.9.0.post0)\n",
            "Requirement already satisfied: pytz>=2020.1 in /usr/local/lib/python3.12/dist-packages (from pandas) (2025.2)\n",
            "Requirement already satisfied: tzdata>=2022.7 in /usr/local/lib/python3.12/dist-packages (from pandas) (2025.2)\n",
            "Requirement already satisfied: transformers<5.0.0,>=4.41.0 in /usr/local/lib/python3.12/dist-packages (from sentence-transformers) (4.57.1)\n",
            "Requirement already satisfied: tqdm in /usr/local/lib/python3.12/dist-packages (from sentence-transformers) (4.67.1)\n",
            "Requirement already satisfied: torch>=1.11.0 in /usr/local/lib/python3.12/dist-packages (from sentence-transformers) (2.8.0+cu126)\n",
            "Requirement already satisfied: scikit-learn in /usr/local/lib/python3.12/dist-packages (from sentence-transformers) (1.6.1)\n",
            "Requirement already satisfied: scipy in /usr/local/lib/python3.12/dist-packages (from sentence-transformers) (1.16.2)\n",
            "Requirement already satisfied: huggingface-hub>=0.20.0 in /usr/local/lib/python3.12/dist-packages (from sentence-transformers) (0.35.3)\n",
            "Requirement already satisfied: Pillow in /usr/local/lib/python3.12/dist-packages (from sentence-transformers) (10.4.0)\n",
            "Requirement already satisfied: typing_extensions>=4.5.0 in /usr/local/lib/python3.12/dist-packages (from sentence-transformers) (4.15.0)\n",
            "Requirement already satisfied: aiofiles<25.0,>=22.0 in /usr/local/lib/python3.12/dist-packages (from gradio) (23.2.1)\n",
            "Requirement already satisfied: anyio<5.0,>=3.0 in /usr/local/lib/python3.12/dist-packages (from gradio) (4.11.0)\n",
            "Requirement already satisfied: brotli>=1.1.0 in /usr/local/lib/python3.12/dist-packages (from gradio) (1.1.0)\n",
            "Requirement already satisfied: fastapi<1.0,>=0.115.2 in /usr/local/lib/python3.12/dist-packages (from gradio) (0.119.1)\n",
            "Requirement already satisfied: ffmpy in /usr/local/lib/python3.12/dist-packages (from gradio) (0.6.3)\n",
            "Collecting gradio-client==1.13.3 (from gradio)\n",
            "  Downloading gradio_client-1.13.3-py3-none-any.whl.metadata (7.1 kB)\n",
            "Requirement already satisfied: groovy~=0.1 in /usr/local/lib/python3.12/dist-packages (from gradio) (0.1.2)\n",
            "INFO: pip is looking at multiple versions of gradio to determine which version is compatible with other requirements. This could take a while.\n",
            "Collecting gradio\n",
            "  Using cached gradio-5.49.0-py3-none-any.whl.metadata (16 kB)\n",
            "  Using cached gradio-5.48.0-py3-none-any.whl.metadata (16 kB)\n",
            "  Using cached gradio-5.47.2-py3-none-any.whl.metadata (16 kB)\n",
            "  Using cached gradio-5.47.1-py3-none-any.whl.metadata (16 kB)\n",
            "Collecting gradio-client==1.13.2 (from gradio)\n",
            "  Using cached gradio_client-1.13.2-py3-none-any.whl.metadata (7.1 kB)\n",
            "Collecting gradio\n",
            "  Using cached gradio-5.47.0-py3-none-any.whl.metadata (16 kB)\n",
            "  Using cached gradio-5.46.1-py3-none-any.whl.metadata (16 kB)\n",
            "Collecting gradio-client==1.13.1 (from gradio)\n",
            "  Using cached gradio_client-1.13.1-py3-none-any.whl.metadata (7.1 kB)\n",
            "Collecting gradio\n",
            "  Using cached gradio-5.46.0-py3-none-any.whl.metadata (16 kB)\n",
            "Collecting gradio-client==1.13.0 (from gradio)\n",
            "  Using cached gradio_client-1.13.0-py3-none-any.whl.metadata (7.1 kB)\n",
            "INFO: pip is still looking at multiple versions of gradio to determine which version is compatible with other requirements. This could take a while.\n",
            "Collecting gradio\n",
            "  Using cached gradio-5.45.0-py3-none-any.whl.metadata (16 kB)\n",
            "  Using cached gradio-5.44.1-py3-none-any.whl.metadata (16 kB)\n",
            "Collecting gradio-client==1.12.1 (from gradio)\n",
            "  Using cached gradio_client-1.12.1-py3-none-any.whl.metadata (7.1 kB)\n",
            "Collecting gradio\n",
            "  Using cached gradio-5.44.0-py3-none-any.whl.metadata (16 kB)\n",
            "  Using cached gradio-5.43.1-py3-none-any.whl.metadata (16 kB)\n",
            "  Using cached gradio-5.43.0-py3-none-any.whl.metadata (16 kB)\n",
            "Collecting gradio-client==1.12.0 (from gradio)\n",
            "  Using cached gradio_client-1.12.0-py3-none-any.whl.metadata (7.1 kB)\n",
            "INFO: This is taking longer than usual. You might need to provide the dependency resolver with stricter constraints to reduce runtime. See https://pip.pypa.io/warnings/backtracking for guidance. If you want to abort this run, press Ctrl + C.\n",
            "Collecting gradio\n",
            "  Using cached gradio-5.42.0-py3-none-any.whl.metadata (16 kB)\n",
            "Collecting gradio-client==1.11.1 (from gradio)\n",
            "  Using cached gradio_client-1.11.1-py3-none-any.whl.metadata (7.1 kB)\n",
            "Collecting gradio\n",
            "  Using cached gradio-5.41.1-py3-none-any.whl.metadata (16 kB)\n",
            "Collecting gradio-client==1.11.0 (from gradio)\n",
            "  Using cached gradio_client-1.11.0-py3-none-any.whl.metadata (7.1 kB)\n",
            "Collecting gradio\n",
            "  Using cached gradio-5.41.0-py3-none-any.whl.metadata (16 kB)\n",
            "  Using cached gradio-5.40.0-py3-none-any.whl.metadata (16 kB)\n",
            "  Using cached gradio-5.39.0-py3-none-any.whl.metadata (16 kB)\n",
            "  Using cached gradio-5.38.2-py3-none-any.whl.metadata (16 kB)\n",
            "  Using cached gradio-5.38.1-py3-none-any.whl.metadata (16 kB)\n",
            "  Using cached gradio-5.38.0-py3-none-any.whl.metadata (16 kB)\n",
            "  Using cached gradio-5.37.0-py3-none-any.whl.metadata (16 kB)\n",
            "Collecting gradio-client==1.10.4 (from gradio)\n",
            "  Using cached gradio_client-1.10.4-py3-none-any.whl.metadata (7.1 kB)\n",
            "Collecting gradio\n",
            "  Using cached gradio-5.36.2-py3-none-any.whl.metadata (16 kB)\n",
            "  Using cached gradio-5.35.0-py3-none-any.whl.metadata (16 kB)\n",
            "  Using cached gradio-5.34.2-py3-none-any.whl.metadata (16 kB)\n",
            "Collecting gradio-client==1.10.3 (from gradio)\n",
            "  Using cached gradio_client-1.10.3-py3-none-any.whl.metadata (7.1 kB)\n",
            "Collecting gradio\n",
            "  Using cached gradio-5.34.1-py3-none-any.whl.metadata (16 kB)\n",
            "  Using cached gradio-5.34.0-py3-none-any.whl.metadata (16 kB)\n",
            "  Using cached gradio-5.33.2-py3-none-any.whl.metadata (16 kB)\n",
            "  Using cached gradio-5.33.1-py3-none-any.whl.metadata (16 kB)\n",
            "  Using cached gradio-5.33.0-py3-none-any.whl.metadata (16 kB)\n",
            "Collecting gradio-client==1.10.2 (from gradio)\n",
            "  Using cached gradio_client-1.10.2-py3-none-any.whl.metadata (7.1 kB)\n",
            "Collecting gradio\n",
            "  Using cached gradio-5.32.1-py3-none-any.whl.metadata (16 kB)\n",
            "  Using cached gradio-5.32.0-py3-none-any.whl.metadata (16 kB)\n",
            "  Using cached gradio-5.31.0-py3-none-any.whl.metadata (16 kB)\n",
            "Collecting gradio-client==1.10.1 (from gradio)\n",
            "  Using cached gradio_client-1.10.1-py3-none-any.whl.metadata (7.1 kB)\n",
            "Collecting gradio\n",
            "  Using cached gradio-5.30.0-py3-none-any.whl.metadata (16 kB)\n",
            "  Using cached gradio-5.29.1-py3-none-any.whl.metadata (16 kB)\n",
            "  Using cached gradio-5.29.0-py3-none-any.whl.metadata (16 kB)\n",
            "Collecting gradio-client==1.10.0 (from gradio)\n",
            "  Using cached gradio_client-1.10.0-py3-none-any.whl.metadata (7.1 kB)\n",
            "Collecting gradio\n",
            "  Using cached gradio-5.28.0-py3-none-any.whl.metadata (16 kB)\n",
            "  Using cached gradio-5.27.1-py3-none-any.whl.metadata (16 kB)\n",
            "Collecting gradio-client==1.9.1 (from gradio)\n",
            "  Using cached gradio_client-1.9.1-py3-none-any.whl.metadata (7.1 kB)\n",
            "Collecting gradio\n",
            "  Using cached gradio-5.27.0-py3-none-any.whl.metadata (16 kB)\n",
            "Collecting gradio-client==1.9.0 (from gradio)\n",
            "  Using cached gradio_client-1.9.0-py3-none-any.whl.metadata (7.1 kB)\n",
            "Collecting gradio\n",
            "  Using cached gradio-5.26.0-py3-none-any.whl.metadata (16 kB)\n",
            "  Using cached gradio-5.25.2-py3-none-any.whl.metadata (16 kB)\n",
            "Collecting gradio-client==1.8.0 (from gradio)\n",
            "  Using cached gradio_client-1.8.0-py3-none-any.whl.metadata (7.1 kB)\n",
            "Collecting gradio\n",
            "  Using cached gradio-5.25.1-py3-none-any.whl.metadata (16 kB)\n",
            "  Using cached gradio-5.25.0-py3-none-any.whl.metadata (16 kB)\n",
            "  Using cached gradio-5.24.0-py3-none-any.whl.metadata (16 kB)\n",
            "  Using cached gradio-5.23.3-py3-none-any.whl.metadata (16 kB)\n",
            "  Using cached gradio-5.23.2-py3-none-any.whl.metadata (16 kB)\n",
            "  Using cached gradio-5.23.1-py3-none-any.whl.metadata (16 kB)\n",
            "  Using cached gradio-5.23.0-py3-none-any.whl.metadata (16 kB)\n",
            "  Using cached gradio-5.22.0-py3-none-any.whl.metadata (16 kB)\n",
            "  Using cached gradio-5.21.0-py3-none-any.whl.metadata (16 kB)\n",
            "Collecting gradio-client==1.7.2 (from gradio)\n",
            "  Using cached gradio_client-1.7.2-py3-none-any.whl.metadata (7.1 kB)\n",
            "Collecting gradio\n",
            "  Using cached gradio-5.20.1-py3-none-any.whl.metadata (16 kB)\n",
            "  Using cached gradio-5.20.0-py3-none-any.whl.metadata (16 kB)\n",
            "  Using cached gradio-5.19.0-py3-none-any.whl.metadata (16 kB)\n",
            "  Using cached gradio-5.18.0-py3-none-any.whl.metadata (16 kB)\n",
            "  Using cached gradio-5.17.1-py3-none-any.whl.metadata (16 kB)\n",
            "Collecting gradio-client==1.7.1 (from gradio)\n",
            "  Using cached gradio_client-1.7.1-py3-none-any.whl.metadata (7.1 kB)\n",
            "Collecting gradio\n",
            "  Using cached gradio-5.17.0-py3-none-any.whl.metadata (16 kB)\n",
            "  Using cached gradio-5.16.2-py3-none-any.whl.metadata (16 kB)\n",
            "  Using cached gradio-5.16.1-py3-none-any.whl.metadata (16 kB)\n",
            "Collecting gradio-client==1.7.0 (from gradio)\n",
            "  Using cached gradio_client-1.7.0-py3-none-any.whl.metadata (7.1 kB)\n",
            "Collecting gradio\n",
            "  Using cached gradio-5.16.0-py3-none-any.whl.metadata (16 kB)\n",
            "  Using cached gradio-5.15.0-py3-none-any.whl.metadata (16 kB)\n",
            "  Using cached gradio-5.14.0-py3-none-any.whl.metadata (16 kB)\n",
            "  Using cached gradio-5.13.2-py3-none-any.whl.metadata (16 kB)\n",
            "Collecting gradio-client==1.6.0 (from gradio)\n",
            "  Using cached gradio_client-1.6.0-py3-none-any.whl.metadata (7.1 kB)\n",
            "Collecting gradio\n",
            "  Using cached gradio-5.13.1-py3-none-any.whl.metadata (16 kB)\n",
            "  Using cached gradio-5.13.0-py3-none-any.whl.metadata (16 kB)\n",
            "  Using cached gradio-5.12.0-py3-none-any.whl.metadata (16 kB)\n",
            "Collecting gradio-client==1.5.4 (from gradio)\n",
            "  Using cached gradio_client-1.5.4-py3-none-any.whl.metadata (7.1 kB)\n",
            "Collecting gradio\n",
            "  Using cached gradio-5.11.0-py3-none-any.whl.metadata (16 kB)\n",
            "Collecting gradio-client==1.5.3 (from gradio)\n",
            "  Using cached gradio_client-1.5.3-py3-none-any.whl.metadata (7.1 kB)\n",
            "Collecting gradio\n",
            "  Using cached gradio-5.10.0-py3-none-any.whl.metadata (16 kB)\n",
            "  Using cached gradio-5.9.1-py3-none-any.whl.metadata (16 kB)\n",
            "Collecting gradio-client==1.5.2 (from gradio)\n",
            "  Using cached gradio_client-1.5.2-py3-none-any.whl.metadata (7.1 kB)\n",
            "Collecting gradio\n",
            "  Using cached gradio-5.9.0-py3-none-any.whl.metadata (16 kB)\n",
            "  Using cached gradio-5.8.0-py3-none-any.whl.metadata (16 kB)\n",
            "Collecting gradio-client==1.5.1 (from gradio)\n",
            "  Using cached gradio_client-1.5.1-py3-none-any.whl.metadata (7.1 kB)\n",
            "Collecting gradio\n",
            "  Using cached gradio-5.7.1-py3-none-any.whl.metadata (16 kB)\n",
            "Collecting gradio-client==1.5.0 (from gradio)\n",
            "  Using cached gradio_client-1.5.0-py3-none-any.whl.metadata (7.1 kB)\n",
            "Collecting gradio\n",
            "  Using cached gradio-5.7.0-py3-none-any.whl.metadata (16 kB)\n",
            "  Using cached gradio-5.6.0-py3-none-any.whl.metadata (16 kB)\n",
            "Collecting gradio-client==1.4.3 (from gradio)\n",
            "  Using cached gradio_client-1.4.3-py3-none-any.whl.metadata (7.1 kB)\n",
            "Collecting gradio\n",
            "  Using cached gradio-5.5.0-py3-none-any.whl.metadata (16 kB)\n",
            "Collecting gradio-client==1.4.2 (from gradio)\n",
            "  Using cached gradio_client-1.4.2-py3-none-any.whl.metadata (7.1 kB)\n",
            "Collecting gradio\n",
            "  Using cached gradio-5.4.0-py3-none-any.whl.metadata (16 kB)\n",
            "  Using cached gradio-5.3.0-py3-none-any.whl.metadata (15 kB)\n",
            "  Using cached gradio-5.1.0-py3-none-any.whl.metadata (15 kB)\n",
            "Collecting gradio-client==1.4.0 (from gradio)\n",
            "  Using cached gradio_client-1.4.0-py3-none-any.whl.metadata (7.1 kB)\n",
            "Collecting gradio\n",
            "  Using cached gradio-5.0.2-py3-none-any.whl.metadata (15 kB)\n",
            "  Using cached gradio-5.0.1-py3-none-any.whl.metadata (15 kB)\n",
            "  Using cached gradio-5.0.0-py3-none-any.whl.metadata (15 kB)\n",
            "  Using cached gradio-4.44.1-py3-none-any.whl.metadata (15 kB)\n",
            "Collecting gradio-client==1.3.0 (from gradio)\n",
            "  Using cached gradio_client-1.3.0-py3-none-any.whl.metadata (7.1 kB)\n",
            "Collecting gradio\n",
            "  Using cached gradio-4.44.0-py3-none-any.whl.metadata (15 kB)\n",
            "  Using cached gradio-4.43.0-py3-none-any.whl.metadata (15 kB)\n",
            "Collecting fastapi<0.113.0 (from gradio)\n",
            "  Using cached fastapi-0.112.4-py3-none-any.whl.metadata (27 kB)\n",
            "Collecting gradio\n",
            "  Using cached gradio-4.42.0-py3-none-any.whl.metadata (15 kB)\n",
            "  Using cached gradio-4.41.0-py3-none-any.whl.metadata (15 kB)\n",
            "  Using cached gradio-4.40.0-py3-none-any.whl.metadata (15 kB)\n",
            "Collecting gradio-client==1.2.0 (from gradio)\n",
            "  Using cached gradio_client-1.2.0-py3-none-any.whl.metadata (7.1 kB)\n",
            "Collecting gradio\n",
            "  Using cached gradio-4.39.0-py3-none-any.whl.metadata (15 kB)\n",
            "Collecting gradio-client==1.1.1 (from gradio)\n",
            "  Using cached gradio_client-1.1.1-py3-none-any.whl.metadata (7.1 kB)\n",
            "Collecting gradio\n",
            "  Using cached gradio-4.38.1-py3-none-any.whl.metadata (15 kB)\n",
            "Requirement already satisfied: altair<6.0,>=5.0 in /usr/local/lib/python3.12/dist-packages (from gradio) (5.5.0)\n",
            "Collecting gradio-client==1.1.0 (from gradio)\n",
            "  Using cached gradio_client-1.1.0-py3-none-any.whl.metadata (7.1 kB)\n",
            "Collecting gradio\n",
            "  Using cached gradio-4.38.0-py3-none-any.whl.metadata (15 kB)\n",
            "  Using cached gradio-4.37.2-py3-none-any.whl.metadata (15 kB)\n",
            "Collecting gradio-client==1.0.2 (from gradio)\n",
            "  Using cached gradio_client-1.0.2-py3-none-any.whl.metadata (7.1 kB)\n",
            "Collecting gradio\n",
            "  Using cached gradio-4.37.1-py3-none-any.whl.metadata (15 kB)\n",
            "  Using cached gradio-4.36.1-py3-none-any.whl.metadata (15 kB)\n",
            "Collecting gradio-client==1.0.1 (from gradio)\n",
            "  Using cached gradio_client-1.0.1-py3-none-any.whl.metadata (7.1 kB)\n",
            "Collecting gradio\n",
            "  Using cached gradio-4.36.0-py3-none-any.whl.metadata (15 kB)\n",
            "  Using cached gradio-4.35.0-py3-none-any.whl.metadata (15 kB)\n",
            "  Using cached gradio-4.33.0-py3-none-any.whl.metadata (15 kB)\n",
            "Collecting gradio-client==0.17.0 (from gradio)\n",
            "  Using cached gradio_client-0.17.0-py3-none-any.whl.metadata (7.1 kB)\n",
            "Collecting gradio\n",
            "  Using cached gradio-4.32.2-py3-none-any.whl.metadata (15 kB)\n",
            "  Using cached gradio-4.32.1-py3-none-any.whl.metadata (15 kB)\n",
            "  Using cached gradio-4.32.0-py3-none-any.whl.metadata (15 kB)\n",
            "  Using cached gradio-4.31.5-py3-none-any.whl.metadata (15 kB)\n",
            "Collecting gradio-client==0.16.4 (from gradio)\n",
            "  Using cached gradio_client-0.16.4-py3-none-any.whl.metadata (7.1 kB)\n",
            "Collecting gradio\n",
            "  Using cached gradio-4.31.4-py3-none-any.whl.metadata (15 kB)\n",
            "  Using cached gradio-4.31.3-py3-none-any.whl.metadata (15 kB)\n",
            "Collecting gradio-client==0.16.3 (from gradio)\n",
            "  Using cached gradio_client-0.16.3-py3-none-any.whl.metadata (7.1 kB)\n",
            "Collecting gradio\n",
            "  Using cached gradio-4.31.2-py3-none-any.whl.metadata (15 kB)\n",
            "  Using cached gradio-4.31.1-py3-none-any.whl.metadata (15 kB)\n",
            "  Using cached gradio-4.31.0-py3-none-any.whl.metadata (15 kB)\n",
            "Collecting gradio-client==0.16.2 (from gradio)\n",
            "  Using cached gradio_client-0.16.2-py3-none-any.whl.metadata (7.1 kB)\n",
            "Collecting gradio\n",
            "  Using cached gradio-4.29.0-py3-none-any.whl.metadata (15 kB)\n",
            "Collecting gradio-client==0.16.1 (from gradio)\n",
            "  Using cached gradio_client-0.16.1-py3-none-any.whl.metadata (7.1 kB)\n",
            "Collecting gradio\n",
            "  Using cached gradio-4.28.3-py3-none-any.whl.metadata (15 kB)\n",
            "Collecting gradio-client==0.16.0 (from gradio)\n",
            "  Using cached gradio_client-0.16.0-py3-none-any.whl.metadata (7.1 kB)\n",
            "Collecting gradio\n",
            "  Using cached gradio-4.28.2-py3-none-any.whl.metadata (15 kB)\n",
            "  Using cached gradio-4.28.1-py3-none-any.whl.metadata (15 kB)\n",
            "  Using cached gradio-4.28.0-py3-none-any.whl.metadata (15 kB)\n",
            "  Using cached gradio-4.27.0-py3-none-any.whl.metadata (15 kB)\n",
            "Collecting gradio-client==0.15.1 (from gradio)\n",
            "  Using cached gradio_client-0.15.1-py3-none-any.whl.metadata (7.1 kB)\n",
            "Collecting gradio\n",
            "  Using cached gradio-4.26.0-py3-none-any.whl.metadata (15 kB)\n",
            "  Using cached gradio-4.25.0-py3-none-any.whl.metadata (15 kB)\n",
            "Collecting gradio-client==0.15.0 (from gradio)\n",
            "  Using cached gradio_client-0.15.0-py3-none-any.whl.metadata (7.1 kB)\n",
            "Collecting gradio\n",
            "  Using cached gradio-4.24.0-py3-none-any.whl.metadata (15 kB)\n",
            "Collecting gradio-client==0.14.0 (from gradio)\n",
            "  Using cached gradio_client-0.14.0-py3-none-any.whl.metadata (7.1 kB)\n",
            "Collecting gradio\n",
            "  Using cached gradio-4.23.0-py3-none-any.whl.metadata (15 kB)\n",
            "  Using cached gradio-4.22.0-py3-none-any.whl.metadata (15 kB)\n",
            "Collecting gradio-client==0.13.0 (from gradio)\n",
            "  Using cached gradio_client-0.13.0-py3-none-any.whl.metadata (7.1 kB)\n",
            "Collecting gradio\n",
            "  Using cached gradio-4.21.0-py3-none-any.whl.metadata (15 kB)\n",
            "Collecting gradio-client==0.12.0 (from gradio)\n",
            "  Using cached gradio_client-0.12.0-py3-none-any.whl.metadata (7.1 kB)\n",
            "Collecting gradio\n",
            "  Using cached gradio-4.20.1-py3-none-any.whl.metadata (15 kB)\n",
            "Collecting gradio-client==0.11.0 (from gradio)\n",
            "  Using cached gradio_client-0.11.0-py3-none-any.whl.metadata (7.1 kB)\n",
            "Collecting gradio\n",
            "  Using cached gradio-4.20.0-py3-none-any.whl.metadata (15 kB)\n",
            "  Using cached gradio-4.19.2-py3-none-any.whl.metadata (15 kB)\n",
            "Collecting gradio-client==0.10.1 (from gradio)\n",
            "  Using cached gradio_client-0.10.1-py3-none-any.whl.metadata (7.1 kB)\n",
            "Requirement already satisfied: gradio-client==0.10.0 in /usr/local/lib/python3.12/dist-packages (from gradio) (0.10.0)\n",
            "Requirement already satisfied: importlib-resources<7.0,>=1.3 in /usr/local/lib/python3.12/dist-packages (from gradio) (6.5.2)\n",
            "Requirement already satisfied: jinja2<4.0 in /usr/local/lib/python3.12/dist-packages (from gradio) (3.1.6)\n",
            "Requirement already satisfied: markupsafe~=2.0 in /usr/local/lib/python3.12/dist-packages (from gradio) (2.1.5)\n",
            "Requirement already satisfied: matplotlib~=3.0 in /usr/local/lib/python3.12/dist-packages (from gradio) (3.10.0)\n",
            "Requirement already satisfied: orjson~=3.0 in /usr/local/lib/python3.12/dist-packages (from gradio) (3.11.3)\n",
            "Requirement already satisfied: packaging in /usr/local/lib/python3.12/dist-packages (from gradio) (25.0)\n",
            "Requirement already satisfied: pydantic>=2.0 in /usr/local/lib/python3.12/dist-packages (from gradio) (2.11.10)\n",
            "Requirement already satisfied: pydub in /usr/local/lib/python3.12/dist-packages (from gradio) (0.25.1)\n",
            "Requirement already satisfied: python-multipart>=0.0.9 in /usr/local/lib/python3.12/dist-packages (from gradio) (0.0.20)\n",
            "Requirement already satisfied: pyyaml<7.0,>=5.0 in /usr/local/lib/python3.12/dist-packages (from gradio) (6.0.3)\n",
            "Requirement already satisfied: ruff>=0.1.7 in /usr/local/lib/python3.12/dist-packages (from gradio) (0.14.1)\n",
            "Requirement already satisfied: semantic-version~=2.0 in /usr/local/lib/python3.12/dist-packages (from gradio) (2.10.0)\n",
            "Requirement already satisfied: tomlkit==0.12.0 in /usr/local/lib/python3.12/dist-packages (from gradio) (0.12.0)\n",
            "Requirement already satisfied: typer<1.0,>=0.9 in /usr/local/lib/python3.12/dist-packages (from typer[all]<1.0,>=0.9->gradio) (0.20.0)\n",
            "Requirement already satisfied: uvicorn>=0.14.0 in /usr/local/lib/python3.12/dist-packages (from gradio) (0.38.0)\n",
            "Requirement already satisfied: fsspec in /usr/local/lib/python3.12/dist-packages (from gradio-client==0.10.0->gradio) (2025.3.0)\n",
            "Requirement already satisfied: websockets<12.0,>=10.0 in /usr/local/lib/python3.12/dist-packages (from gradio-client==0.10.0->gradio) (11.0.3)\n",
            "Requirement already satisfied: jsonschema>=3.0 in /usr/local/lib/python3.12/dist-packages (from altair<6.0,>=5.0->gradio) (4.25.1)\n",
            "Requirement already satisfied: narwhals>=1.14.2 in /usr/local/lib/python3.12/dist-packages (from altair<6.0,>=5.0->gradio) (2.9.0)\n",
            "Requirement already satisfied: filelock in /usr/local/lib/python3.12/dist-packages (from huggingface-hub>=0.20.0->sentence-transformers) (3.20.0)\n",
            "Requirement already satisfied: requests in /usr/local/lib/python3.12/dist-packages (from huggingface-hub>=0.20.0->sentence-transformers) (2.32.4)\n",
            "Requirement already satisfied: hf-xet<2.0.0,>=1.1.3 in /usr/local/lib/python3.12/dist-packages (from huggingface-hub>=0.20.0->sentence-transformers) (1.1.10)\n",
            "Requirement already satisfied: contourpy>=1.0.1 in /usr/local/lib/python3.12/dist-packages (from matplotlib~=3.0->gradio) (1.3.3)\n",
            "Requirement already satisfied: cycler>=0.10 in /usr/local/lib/python3.12/dist-packages (from matplotlib~=3.0->gradio) (0.12.1)\n",
            "Requirement already satisfied: fonttools>=4.22.0 in /usr/local/lib/python3.12/dist-packages (from matplotlib~=3.0->gradio) (4.60.1)\n",
            "Requirement already satisfied: kiwisolver>=1.3.1 in /usr/local/lib/python3.12/dist-packages (from matplotlib~=3.0->gradio) (1.4.9)\n",
            "Requirement already satisfied: pyparsing>=2.3.1 in /usr/local/lib/python3.12/dist-packages (from matplotlib~=3.0->gradio) (3.2.5)\n",
            "Requirement already satisfied: annotated-types>=0.6.0 in /usr/local/lib/python3.12/dist-packages (from pydantic>=2.0->gradio) (0.7.0)\n",
            "Requirement already satisfied: pydantic-core==2.33.2 in /usr/local/lib/python3.12/dist-packages (from pydantic>=2.0->gradio) (2.33.2)\n",
            "Requirement already satisfied: typing-inspection>=0.4.0 in /usr/local/lib/python3.12/dist-packages (from pydantic>=2.0->gradio) (0.4.2)\n",
            "Requirement already satisfied: six>=1.5 in /usr/local/lib/python3.12/dist-packages (from python-dateutil>=2.8.2->pandas) (1.17.0)\n",
            "Requirement already satisfied: setuptools in /usr/local/lib/python3.12/dist-packages (from torch>=1.11.0->sentence-transformers) (75.2.0)\n",
            "Requirement already satisfied: sympy>=1.13.3 in /usr/local/lib/python3.12/dist-packages (from torch>=1.11.0->sentence-transformers) (1.13.3)\n",
            "Requirement already satisfied: networkx in /usr/local/lib/python3.12/dist-packages (from torch>=1.11.0->sentence-transformers) (3.5)\n",
            "Requirement already satisfied: nvidia-cuda-nvrtc-cu12==12.6.77 in /usr/local/lib/python3.12/dist-packages (from torch>=1.11.0->sentence-transformers) (12.6.77)\n",
            "Requirement already satisfied: nvidia-cuda-runtime-cu12==12.6.77 in /usr/local/lib/python3.12/dist-packages (from torch>=1.11.0->sentence-transformers) (12.6.77)\n",
            "Requirement already satisfied: nvidia-cuda-cupti-cu12==12.6.80 in /usr/local/lib/python3.12/dist-packages (from torch>=1.11.0->sentence-transformers) (12.6.80)\n",
            "Requirement already satisfied: nvidia-cudnn-cu12==9.10.2.21 in /usr/local/lib/python3.12/dist-packages (from torch>=1.11.0->sentence-transformers) (9.10.2.21)\n",
            "Requirement already satisfied: nvidia-cublas-cu12==12.6.4.1 in /usr/local/lib/python3.12/dist-packages (from torch>=1.11.0->sentence-transformers) (12.6.4.1)\n",
            "Requirement already satisfied: nvidia-cufft-cu12==11.3.0.4 in /usr/local/lib/python3.12/dist-packages (from torch>=1.11.0->sentence-transformers) (11.3.0.4)\n",
            "Requirement already satisfied: nvidia-curand-cu12==10.3.7.77 in /usr/local/lib/python3.12/dist-packages (from torch>=1.11.0->sentence-transformers) (10.3.7.77)\n",
            "Requirement already satisfied: nvidia-cusolver-cu12==11.7.1.2 in /usr/local/lib/python3.12/dist-packages (from torch>=1.11.0->sentence-transformers) (11.7.1.2)\n",
            "Requirement already satisfied: nvidia-cusparse-cu12==12.5.4.2 in /usr/local/lib/python3.12/dist-packages (from torch>=1.11.0->sentence-transformers) (12.5.4.2)\n",
            "Requirement already satisfied: nvidia-cusparselt-cu12==0.7.1 in /usr/local/lib/python3.12/dist-packages (from torch>=1.11.0->sentence-transformers) (0.7.1)\n",
            "Requirement already satisfied: nvidia-nccl-cu12==2.27.3 in /usr/local/lib/python3.12/dist-packages (from torch>=1.11.0->sentence-transformers) (2.27.3)\n",
            "Requirement already satisfied: nvidia-nvtx-cu12==12.6.77 in /usr/local/lib/python3.12/dist-packages (from torch>=1.11.0->sentence-transformers) (12.6.77)\n",
            "Requirement already satisfied: nvidia-nvjitlink-cu12==12.6.85 in /usr/local/lib/python3.12/dist-packages (from torch>=1.11.0->sentence-transformers) (12.6.85)\n",
            "Requirement already satisfied: nvidia-cufile-cu12==1.11.1.6 in /usr/local/lib/python3.12/dist-packages (from torch>=1.11.0->sentence-transformers) (1.11.1.6)\n",
            "Requirement already satisfied: triton==3.4.0 in /usr/local/lib/python3.12/dist-packages (from torch>=1.11.0->sentence-transformers) (3.4.0)\n",
            "Requirement already satisfied: regex!=2019.12.17 in /usr/local/lib/python3.12/dist-packages (from transformers<5.0.0,>=4.41.0->sentence-transformers) (2024.11.6)\n",
            "Requirement already satisfied: tokenizers<=0.23.0,>=0.22.0 in /usr/local/lib/python3.12/dist-packages (from transformers<5.0.0,>=4.41.0->sentence-transformers) (0.22.1)\n",
            "Requirement already satisfied: safetensors>=0.4.3 in /usr/local/lib/python3.12/dist-packages (from transformers<5.0.0,>=4.41.0->sentence-transformers) (0.6.2)\n",
            "Requirement already satisfied: click>=8.0.0 in /usr/local/lib/python3.12/dist-packages (from typer<1.0,>=0.9->typer[all]<1.0,>=0.9->gradio) (8.3.0)\n",
            "Requirement already satisfied: shellingham>=1.3.0 in /usr/local/lib/python3.12/dist-packages (from typer<1.0,>=0.9->typer[all]<1.0,>=0.9->gradio) (1.5.4)\n",
            "Requirement already satisfied: rich>=10.11.0 in /usr/local/lib/python3.12/dist-packages (from typer<1.0,>=0.9->typer[all]<1.0,>=0.9->gradio) (13.9.4)\n",
            "\u001b[33mWARNING: typer 0.20.0 does not provide the extra 'all'\u001b[0m\u001b[33m\n",
            "\u001b[0mRequirement already satisfied: starlette<0.49.0,>=0.40.0 in /usr/local/lib/python3.12/dist-packages (from fastapi<1.0,>=0.115.2->gradio) (0.48.0)\n",
            "Requirement already satisfied: joblib>=1.2.0 in /usr/local/lib/python3.12/dist-packages (from scikit-learn->sentence-transformers) (1.5.2)\n",
            "Requirement already satisfied: threadpoolctl>=3.1.0 in /usr/local/lib/python3.12/dist-packages (from scikit-learn->sentence-transformers) (3.6.0)\n",
            "Requirement already satisfied: attrs>=22.2.0 in /usr/local/lib/python3.12/dist-packages (from jsonschema>=3.0->altair<6.0,>=5.0->gradio) (25.4.0)\n",
            "Requirement already satisfied: jsonschema-specifications>=2023.03.6 in /usr/local/lib/python3.12/dist-packages (from jsonschema>=3.0->altair<6.0,>=5.0->gradio) (2025.9.1)\n",
            "Requirement already satisfied: referencing>=0.28.4 in /usr/local/lib/python3.12/dist-packages (from jsonschema>=3.0->altair<6.0,>=5.0->gradio) (0.37.0)\n",
            "Requirement already satisfied: rpds-py>=0.7.1 in /usr/local/lib/python3.12/dist-packages (from jsonschema>=3.0->altair<6.0,>=5.0->gradio) (0.27.1)\n",
            "Requirement already satisfied: markdown-it-py>=2.2.0 in /usr/local/lib/python3.12/dist-packages (from rich>=10.11.0->typer<1.0,>=0.9->typer[all]<1.0,>=0.9->gradio) (4.0.0)\n",
            "Requirement already satisfied: pygments<3.0.0,>=2.13.0 in /usr/local/lib/python3.12/dist-packages (from rich>=10.11.0->typer<1.0,>=0.9->typer[all]<1.0,>=0.9->gradio) (2.19.2)\n",
            "Requirement already satisfied: mpmath<1.4,>=1.1.0 in /usr/local/lib/python3.12/dist-packages (from sympy>=1.13.3->torch>=1.11.0->sentence-transformers) (1.3.0)\n",
            "Requirement already satisfied: charset_normalizer<4,>=2 in /usr/local/lib/python3.12/dist-packages (from requests->huggingface-hub>=0.20.0->sentence-transformers) (3.4.4)\n",
            "Requirement already satisfied: urllib3<3,>=1.21.1 in /usr/local/lib/python3.12/dist-packages (from requests->huggingface-hub>=0.20.0->sentence-transformers) (2.5.0)\n",
            "Requirement already satisfied: mdurl~=0.1 in /usr/local/lib/python3.12/dist-packages (from markdown-it-py>=2.2.0->rich>=10.11.0->typer<1.0,>=0.9->typer[all]<1.0,>=0.9->gradio) (0.1.2)\n",
            "Downloading pandas-2.3.3-cp312-cp312-manylinux_2_24_x86_64.manylinux_2_28_x86_64.whl (12.4 MB)\n",
            "\u001b[2K   \u001b[90m━━━━━━━━━━━━━━━━━━━━━━━━━━━━━━━━━━━━━━━━\u001b[0m \u001b[32m12.4/12.4 MB\u001b[0m \u001b[31m102.9 MB/s\u001b[0m eta \u001b[36m0:00:00\u001b[0m\n",
            "\u001b[?25hDownloading sentence_transformers-5.1.2-py3-none-any.whl (488 kB)\n",
            "\u001b[2K   \u001b[90m━━━━━━━━━━━━━━━━━━━━━━━━━━━━━━━━━━━━━━━━\u001b[0m \u001b[32m488.0/488.0 kB\u001b[0m \u001b[31m39.2 MB/s\u001b[0m eta \u001b[36m0:00:00\u001b[0m\n",
            "\u001b[?25hInstalling collected packages: pandas, sentence-transformers\n",
            "  Attempting uninstall: pandas\n",
            "    Found existing installation: pandas 2.2.2\n",
            "    Uninstalling pandas-2.2.2:\n",
            "      Successfully uninstalled pandas-2.2.2\n",
            "  Attempting uninstall: sentence-transformers\n",
            "    Found existing installation: sentence-transformers 5.1.1\n",
            "    Uninstalling sentence-transformers-5.1.1:\n",
            "      Successfully uninstalled sentence-transformers-5.1.1\n",
            "\u001b[31mERROR: pip's dependency resolver does not currently take into account all the packages that are installed. This behaviour is the source of the following dependency conflicts.\n",
            "google-colab 1.0.0 requires pandas==2.2.2, but you have pandas 2.3.3 which is incompatible.\n",
            "cudf-cu12 25.6.0 requires pandas<2.2.4dev0,>=2.0, but you have pandas 2.3.3 which is incompatible.\n",
            "yfinance 0.2.66 requires websockets>=13.0, but you have websockets 11.0.3 which is incompatible.\n",
            "dask-cudf-cu12 25.6.0 requires pandas<2.2.4dev0,>=2.0, but you have pandas 2.3.3 which is incompatible.\u001b[0m\u001b[31m\n",
            "\u001b[0mSuccessfully installed pandas-2.3.3 sentence-transformers-5.1.2\n"
          ]
        },
        {
          "output_type": "display_data",
          "data": {
            "application/vnd.colab-display-data+json": {
              "pip_warning": {
                "packages": [
                  "pandas",
                  "sentence_transformers"
                ]
              },
              "id": "62b54c96480448d9a15f8b84173d8722"
            }
          },
          "metadata": {}
        }
      ],
      "source": [
        "!pip install pandas sentence-transformers gradio googletrans==4.0.0-rc1 --upgrade"
      ]
    },
    {
      "cell_type": "code",
      "source": [
        "import numpy as np\n",
        "import pandas as pd\n",
        "from sentence_transformers import SentenceTransformer, util\n",
        "from googletrans import Translator\n",
        "import gradio as gr\n",
        "import seaborn as sns\n",
        "import matplotlib.pyplot as plt\n",
        "import warnings\n",
        "warnings.filterwarnings('ignore')"
      ],
      "metadata": {
        "id": "9k-926mNAU9E"
      },
      "execution_count": 12,
      "outputs": []
    },
    {
      "cell_type": "code",
      "metadata": {
        "colab": {
          "base_uri": "https://localhost:8080/"
        },
        "id": "08d8191b",
        "outputId": "07f85c60-97ad-44f2-9b0f-f48ca39feb3a"
      },
      "source": [
        "from google.colab import drive\n",
        "drive.mount('/content/drive')"
      ],
      "execution_count": 2,
      "outputs": [
        {
          "output_type": "stream",
          "name": "stdout",
          "text": [
            "Mounted at /content/drive\n"
          ]
        }
      ]
    },
    {
      "cell_type": "code",
      "metadata": {
        "colab": {
          "base_uri": "https://localhost:8080/",
          "height": 608
        },
        "id": "0b582bf1",
        "outputId": "4bf07895-b9a2-4109-c14b-7f88a111cb7a"
      },
      "source": [
        "df = pd.read_csv('/content/drive/My Drive/IndianFoodDatasetCSV.csv')\n",
        "display(df.head())"
      ],
      "execution_count": 37,
      "outputs": [
        {
          "output_type": "display_data",
          "data": {
            "text/plain": [
              "   Srno                                         RecipeName  \\\n",
              "0     1                               Masala Karela Recipe   \n",
              "1     2  टमाटर पुलियोगरे रेसिपी - Spicy Tomato Rice (Re...   \n",
              "2     3  Ragi Semiya Upma Recipe - Ragi Millet Vermicel...   \n",
              "3     4  Gongura Chicken Curry Recipe - Andhra Style Go...   \n",
              "4     5  आंध्रा स्टाइल आलम पचड़ी रेसिपी - Adrak Chutney ...   \n",
              "\n",
              "                                TranslatedRecipeName  \\\n",
              "0                               Masala Karela Recipe   \n",
              "1                         Spicy Tomato Rice (Recipe)   \n",
              "2  Ragi Semiya Upma Recipe - Ragi Millet Vermicel...   \n",
              "3  Gongura Chicken Curry Recipe - Andhra Style Go...   \n",
              "4  Andhra Style Alam Pachadi Recipe - Adrak Chutn...   \n",
              "\n",
              "                                         Ingredients  \\\n",
              "0  6 Karela (Bitter Gourd/ Pavakkai) - deseeded,S...   \n",
              "1  2-1/2 कप चावल - पका ले,3 टमाटर,3 छोटा चमच्च बी...   \n",
              "2  1-1/2 cups Rice Vermicelli Noodles (Thin),1 On...   \n",
              "3  500 grams Chicken,2 Onion - chopped,1 Tomato -...   \n",
              "4  1 बड़ा चमच्च चना दाल,1 बड़ा चमच्च सफ़ेद उरद दाल,2...   \n",
              "\n",
              "                               TranslatedIngredients  PrepTimeInMins  \\\n",
              "0  6 Karela (Bitter Gourd/ Pavakkai) - deseeded,S...              15   \n",
              "1  2-1 / 2 cups rice - cooked, 3 tomatoes, 3 teas...               5   \n",
              "2  1-1/2 cups Rice Vermicelli Noodles (Thin),1 On...              20   \n",
              "3  500 grams Chicken,2 Onion - chopped,1 Tomato -...              15   \n",
              "4  1 tablespoon chana dal, 1 tablespoon white ura...              10   \n",
              "\n",
              "   CookTimeInMins  TotalTimeInMins  Servings               Cuisine  \\\n",
              "0              30               45         6                Indian   \n",
              "1              10               15         3  South Indian Recipes   \n",
              "2              30               50         4  South Indian Recipes   \n",
              "3              30               45         4                Andhra   \n",
              "4              20               30         4                Andhra   \n",
              "\n",
              "                   Course                     Diet  \\\n",
              "0               Side Dish        Diabetic Friendly   \n",
              "1             Main Course               Vegetarian   \n",
              "2  South Indian Breakfast  High Protein Vegetarian   \n",
              "3                   Lunch           Non Vegeterian   \n",
              "4  South Indian Breakfast               Vegetarian   \n",
              "\n",
              "                                        Instructions  \\\n",
              "0  To begin making the Masala Karela Recipe,de-se...   \n",
              "1  टमाटर पुलियोगरे बनाने के लिए सबसे पहले टमाटर क...   \n",
              "2  To begin making the Ragi Vermicelli Recipe, fi...   \n",
              "3  To begin making Gongura Chicken Curry Recipe f...   \n",
              "4  आंध्रा स्टाइल आलम पचड़ी बनाने के लिए सबसे पहले ...   \n",
              "\n",
              "                              TranslatedInstructions  \\\n",
              "0  To begin making the Masala Karela Recipe,de-se...   \n",
              "1  To make tomato puliogere, first cut the tomato...   \n",
              "2  To begin making the Ragi Vermicelli Recipe, fi...   \n",
              "3  To begin making Gongura Chicken Curry Recipe f...   \n",
              "4  To make Andhra Style Alam Pachadi, first heat ...   \n",
              "\n",
              "                                                 URL  \n",
              "0  https://www.archanaskitchen.com/masala-karela-...  \n",
              "1  http://www.archanaskitchen.com/spicy-tomato-ri...  \n",
              "2  http://www.archanaskitchen.com/ragi-vermicelli...  \n",
              "3  http://www.archanaskitchen.com/gongura-chicken...  \n",
              "4  https://www.archanaskitchen.com/andhra-style-a...  "
            ],
            "text/html": [
              "\n",
              "  <div id=\"df-b4262a65-4049-42b9-9bb0-33338dff8109\" class=\"colab-df-container\">\n",
              "    <div>\n",
              "<style scoped>\n",
              "    .dataframe tbody tr th:only-of-type {\n",
              "        vertical-align: middle;\n",
              "    }\n",
              "\n",
              "    .dataframe tbody tr th {\n",
              "        vertical-align: top;\n",
              "    }\n",
              "\n",
              "    .dataframe thead th {\n",
              "        text-align: right;\n",
              "    }\n",
              "</style>\n",
              "<table border=\"1\" class=\"dataframe\">\n",
              "  <thead>\n",
              "    <tr style=\"text-align: right;\">\n",
              "      <th></th>\n",
              "      <th>Srno</th>\n",
              "      <th>RecipeName</th>\n",
              "      <th>TranslatedRecipeName</th>\n",
              "      <th>Ingredients</th>\n",
              "      <th>TranslatedIngredients</th>\n",
              "      <th>PrepTimeInMins</th>\n",
              "      <th>CookTimeInMins</th>\n",
              "      <th>TotalTimeInMins</th>\n",
              "      <th>Servings</th>\n",
              "      <th>Cuisine</th>\n",
              "      <th>Course</th>\n",
              "      <th>Diet</th>\n",
              "      <th>Instructions</th>\n",
              "      <th>TranslatedInstructions</th>\n",
              "      <th>URL</th>\n",
              "    </tr>\n",
              "  </thead>\n",
              "  <tbody>\n",
              "    <tr>\n",
              "      <th>0</th>\n",
              "      <td>1</td>\n",
              "      <td>Masala Karela Recipe</td>\n",
              "      <td>Masala Karela Recipe</td>\n",
              "      <td>6 Karela (Bitter Gourd/ Pavakkai) - deseeded,S...</td>\n",
              "      <td>6 Karela (Bitter Gourd/ Pavakkai) - deseeded,S...</td>\n",
              "      <td>15</td>\n",
              "      <td>30</td>\n",
              "      <td>45</td>\n",
              "      <td>6</td>\n",
              "      <td>Indian</td>\n",
              "      <td>Side Dish</td>\n",
              "      <td>Diabetic Friendly</td>\n",
              "      <td>To begin making the Masala Karela Recipe,de-se...</td>\n",
              "      <td>To begin making the Masala Karela Recipe,de-se...</td>\n",
              "      <td>https://www.archanaskitchen.com/masala-karela-...</td>\n",
              "    </tr>\n",
              "    <tr>\n",
              "      <th>1</th>\n",
              "      <td>2</td>\n",
              "      <td>टमाटर पुलियोगरे रेसिपी - Spicy Tomato Rice (Re...</td>\n",
              "      <td>Spicy Tomato Rice (Recipe)</td>\n",
              "      <td>2-1/2 कप चावल - पका ले,3 टमाटर,3 छोटा चमच्च बी...</td>\n",
              "      <td>2-1 / 2 cups rice - cooked, 3 tomatoes, 3 teas...</td>\n",
              "      <td>5</td>\n",
              "      <td>10</td>\n",
              "      <td>15</td>\n",
              "      <td>3</td>\n",
              "      <td>South Indian Recipes</td>\n",
              "      <td>Main Course</td>\n",
              "      <td>Vegetarian</td>\n",
              "      <td>टमाटर पुलियोगरे बनाने के लिए सबसे पहले टमाटर क...</td>\n",
              "      <td>To make tomato puliogere, first cut the tomato...</td>\n",
              "      <td>http://www.archanaskitchen.com/spicy-tomato-ri...</td>\n",
              "    </tr>\n",
              "    <tr>\n",
              "      <th>2</th>\n",
              "      <td>3</td>\n",
              "      <td>Ragi Semiya Upma Recipe - Ragi Millet Vermicel...</td>\n",
              "      <td>Ragi Semiya Upma Recipe - Ragi Millet Vermicel...</td>\n",
              "      <td>1-1/2 cups Rice Vermicelli Noodles (Thin),1 On...</td>\n",
              "      <td>1-1/2 cups Rice Vermicelli Noodles (Thin),1 On...</td>\n",
              "      <td>20</td>\n",
              "      <td>30</td>\n",
              "      <td>50</td>\n",
              "      <td>4</td>\n",
              "      <td>South Indian Recipes</td>\n",
              "      <td>South Indian Breakfast</td>\n",
              "      <td>High Protein Vegetarian</td>\n",
              "      <td>To begin making the Ragi Vermicelli Recipe, fi...</td>\n",
              "      <td>To begin making the Ragi Vermicelli Recipe, fi...</td>\n",
              "      <td>http://www.archanaskitchen.com/ragi-vermicelli...</td>\n",
              "    </tr>\n",
              "    <tr>\n",
              "      <th>3</th>\n",
              "      <td>4</td>\n",
              "      <td>Gongura Chicken Curry Recipe - Andhra Style Go...</td>\n",
              "      <td>Gongura Chicken Curry Recipe - Andhra Style Go...</td>\n",
              "      <td>500 grams Chicken,2 Onion - chopped,1 Tomato -...</td>\n",
              "      <td>500 grams Chicken,2 Onion - chopped,1 Tomato -...</td>\n",
              "      <td>15</td>\n",
              "      <td>30</td>\n",
              "      <td>45</td>\n",
              "      <td>4</td>\n",
              "      <td>Andhra</td>\n",
              "      <td>Lunch</td>\n",
              "      <td>Non Vegeterian</td>\n",
              "      <td>To begin making Gongura Chicken Curry Recipe f...</td>\n",
              "      <td>To begin making Gongura Chicken Curry Recipe f...</td>\n",
              "      <td>http://www.archanaskitchen.com/gongura-chicken...</td>\n",
              "    </tr>\n",
              "    <tr>\n",
              "      <th>4</th>\n",
              "      <td>5</td>\n",
              "      <td>आंध्रा स्टाइल आलम पचड़ी रेसिपी - Adrak Chutney ...</td>\n",
              "      <td>Andhra Style Alam Pachadi Recipe - Adrak Chutn...</td>\n",
              "      <td>1 बड़ा चमच्च चना दाल,1 बड़ा चमच्च सफ़ेद उरद दाल,2...</td>\n",
              "      <td>1 tablespoon chana dal, 1 tablespoon white ura...</td>\n",
              "      <td>10</td>\n",
              "      <td>20</td>\n",
              "      <td>30</td>\n",
              "      <td>4</td>\n",
              "      <td>Andhra</td>\n",
              "      <td>South Indian Breakfast</td>\n",
              "      <td>Vegetarian</td>\n",
              "      <td>आंध्रा स्टाइल आलम पचड़ी बनाने के लिए सबसे पहले ...</td>\n",
              "      <td>To make Andhra Style Alam Pachadi, first heat ...</td>\n",
              "      <td>https://www.archanaskitchen.com/andhra-style-a...</td>\n",
              "    </tr>\n",
              "  </tbody>\n",
              "</table>\n",
              "</div>\n",
              "    <div class=\"colab-df-buttons\">\n",
              "\n",
              "  <div class=\"colab-df-container\">\n",
              "    <button class=\"colab-df-convert\" onclick=\"convertToInteractive('df-b4262a65-4049-42b9-9bb0-33338dff8109')\"\n",
              "            title=\"Convert this dataframe to an interactive table.\"\n",
              "            style=\"display:none;\">\n",
              "\n",
              "  <svg xmlns=\"http://www.w3.org/2000/svg\" height=\"24px\" viewBox=\"0 -960 960 960\">\n",
              "    <path d=\"M120-120v-720h720v720H120Zm60-500h600v-160H180v160Zm220 220h160v-160H400v160Zm0 220h160v-160H400v160ZM180-400h160v-160H180v160Zm440 0h160v-160H620v160ZM180-180h160v-160H180v160Zm440 0h160v-160H620v160Z\"/>\n",
              "  </svg>\n",
              "    </button>\n",
              "\n",
              "  <style>\n",
              "    .colab-df-container {\n",
              "      display:flex;\n",
              "      gap: 12px;\n",
              "    }\n",
              "\n",
              "    .colab-df-convert {\n",
              "      background-color: #E8F0FE;\n",
              "      border: none;\n",
              "      border-radius: 50%;\n",
              "      cursor: pointer;\n",
              "      display: none;\n",
              "      fill: #1967D2;\n",
              "      height: 32px;\n",
              "      padding: 0 0 0 0;\n",
              "      width: 32px;\n",
              "    }\n",
              "\n",
              "    .colab-df-convert:hover {\n",
              "      background-color: #E2EBFA;\n",
              "      box-shadow: 0px 1px 2px rgba(60, 64, 67, 0.3), 0px 1px 3px 1px rgba(60, 64, 67, 0.15);\n",
              "      fill: #174EA6;\n",
              "    }\n",
              "\n",
              "    .colab-df-buttons div {\n",
              "      margin-bottom: 4px;\n",
              "    }\n",
              "\n",
              "    [theme=dark] .colab-df-convert {\n",
              "      background-color: #3B4455;\n",
              "      fill: #D2E3FC;\n",
              "    }\n",
              "\n",
              "    [theme=dark] .colab-df-convert:hover {\n",
              "      background-color: #434B5C;\n",
              "      box-shadow: 0px 1px 3px 1px rgba(0, 0, 0, 0.15);\n",
              "      filter: drop-shadow(0px 1px 2px rgba(0, 0, 0, 0.3));\n",
              "      fill: #FFFFFF;\n",
              "    }\n",
              "  </style>\n",
              "\n",
              "    <script>\n",
              "      const buttonEl =\n",
              "        document.querySelector('#df-b4262a65-4049-42b9-9bb0-33338dff8109 button.colab-df-convert');\n",
              "      buttonEl.style.display =\n",
              "        google.colab.kernel.accessAllowed ? 'block' : 'none';\n",
              "\n",
              "      async function convertToInteractive(key) {\n",
              "        const element = document.querySelector('#df-b4262a65-4049-42b9-9bb0-33338dff8109');\n",
              "        const dataTable =\n",
              "          await google.colab.kernel.invokeFunction('convertToInteractive',\n",
              "                                                    [key], {});\n",
              "        if (!dataTable) return;\n",
              "\n",
              "        const docLinkHtml = 'Like what you see? Visit the ' +\n",
              "          '<a target=\"_blank\" href=https://colab.research.google.com/notebooks/data_table.ipynb>data table notebook</a>'\n",
              "          + ' to learn more about interactive tables.';\n",
              "        element.innerHTML = '';\n",
              "        dataTable['output_type'] = 'display_data';\n",
              "        await google.colab.output.renderOutput(dataTable, element);\n",
              "        const docLink = document.createElement('div');\n",
              "        docLink.innerHTML = docLinkHtml;\n",
              "        element.appendChild(docLink);\n",
              "      }\n",
              "    </script>\n",
              "  </div>\n",
              "\n",
              "\n",
              "    <div id=\"df-347f4fe4-c4e7-4181-b69c-1ec5b5115bfd\">\n",
              "      <button class=\"colab-df-quickchart\" onclick=\"quickchart('df-347f4fe4-c4e7-4181-b69c-1ec5b5115bfd')\"\n",
              "                title=\"Suggest charts\"\n",
              "                style=\"display:none;\">\n",
              "\n",
              "<svg xmlns=\"http://www.w3.org/2000/svg\" height=\"24px\"viewBox=\"0 0 24 24\"\n",
              "     width=\"24px\">\n",
              "    <g>\n",
              "        <path d=\"M19 3H5c-1.1 0-2 .9-2 2v14c0 1.1.9 2 2 2h14c1.1 0 2-.9 2-2V5c0-1.1-.9-2-2-2zM9 17H7v-7h2v7zm4 0h-2V7h2v10zm4 0h-2v-4h2v4z\"/>\n",
              "    </g>\n",
              "</svg>\n",
              "      </button>\n",
              "\n",
              "<style>\n",
              "  .colab-df-quickchart {\n",
              "      --bg-color: #E8F0FE;\n",
              "      --fill-color: #1967D2;\n",
              "      --hover-bg-color: #E2EBFA;\n",
              "      --hover-fill-color: #174EA6;\n",
              "      --disabled-fill-color: #AAA;\n",
              "      --disabled-bg-color: #DDD;\n",
              "  }\n",
              "\n",
              "  [theme=dark] .colab-df-quickchart {\n",
              "      --bg-color: #3B4455;\n",
              "      --fill-color: #D2E3FC;\n",
              "      --hover-bg-color: #434B5C;\n",
              "      --hover-fill-color: #FFFFFF;\n",
              "      --disabled-bg-color: #3B4455;\n",
              "      --disabled-fill-color: #666;\n",
              "  }\n",
              "\n",
              "  .colab-df-quickchart {\n",
              "    background-color: var(--bg-color);\n",
              "    border: none;\n",
              "    border-radius: 50%;\n",
              "    cursor: pointer;\n",
              "    display: none;\n",
              "    fill: var(--fill-color);\n",
              "    height: 32px;\n",
              "    padding: 0;\n",
              "    width: 32px;\n",
              "  }\n",
              "\n",
              "  .colab-df-quickchart:hover {\n",
              "    background-color: var(--hover-bg-color);\n",
              "    box-shadow: 0 1px 2px rgba(60, 64, 67, 0.3), 0 1px 3px 1px rgba(60, 64, 67, 0.15);\n",
              "    fill: var(--button-hover-fill-color);\n",
              "  }\n",
              "\n",
              "  .colab-df-quickchart-complete:disabled,\n",
              "  .colab-df-quickchart-complete:disabled:hover {\n",
              "    background-color: var(--disabled-bg-color);\n",
              "    fill: var(--disabled-fill-color);\n",
              "    box-shadow: none;\n",
              "  }\n",
              "\n",
              "  .colab-df-spinner {\n",
              "    border: 2px solid var(--fill-color);\n",
              "    border-color: transparent;\n",
              "    border-bottom-color: var(--fill-color);\n",
              "    animation:\n",
              "      spin 1s steps(1) infinite;\n",
              "  }\n",
              "\n",
              "  @keyframes spin {\n",
              "    0% {\n",
              "      border-color: transparent;\n",
              "      border-bottom-color: var(--fill-color);\n",
              "      border-left-color: var(--fill-color);\n",
              "    }\n",
              "    20% {\n",
              "      border-color: transparent;\n",
              "      border-left-color: var(--fill-color);\n",
              "      border-top-color: var(--fill-color);\n",
              "    }\n",
              "    30% {\n",
              "      border-color: transparent;\n",
              "      border-left-color: var(--fill-color);\n",
              "      border-top-color: var(--fill-color);\n",
              "      border-right-color: var(--fill-color);\n",
              "    }\n",
              "    40% {\n",
              "      border-color: transparent;\n",
              "      border-right-color: var(--fill-color);\n",
              "      border-top-color: var(--fill-color);\n",
              "    }\n",
              "    60% {\n",
              "      border-color: transparent;\n",
              "      border-right-color: var(--fill-color);\n",
              "    }\n",
              "    80% {\n",
              "      border-color: transparent;\n",
              "      border-right-color: var(--fill-color);\n",
              "      border-bottom-color: var(--fill-color);\n",
              "    }\n",
              "    90% {\n",
              "      border-color: transparent;\n",
              "      border-bottom-color: var(--fill-color);\n",
              "    }\n",
              "  }\n",
              "</style>\n",
              "\n",
              "      <script>\n",
              "        async function quickchart(key) {\n",
              "          const quickchartButtonEl =\n",
              "            document.querySelector('#' + key + ' button');\n",
              "          quickchartButtonEl.disabled = true;  // To prevent multiple clicks.\n",
              "          quickchartButtonEl.classList.add('colab-df-spinner');\n",
              "          try {\n",
              "            const charts = await google.colab.kernel.invokeFunction(\n",
              "                'suggestCharts', [key], {});\n",
              "          } catch (error) {\n",
              "            console.error('Error during call to suggestCharts:', error);\n",
              "          }\n",
              "          quickchartButtonEl.classList.remove('colab-df-spinner');\n",
              "          quickchartButtonEl.classList.add('colab-df-quickchart-complete');\n",
              "        }\n",
              "        (() => {\n",
              "          let quickchartButtonEl =\n",
              "            document.querySelector('#df-347f4fe4-c4e7-4181-b69c-1ec5b5115bfd button');\n",
              "          quickchartButtonEl.style.display =\n",
              "            google.colab.kernel.accessAllowed ? 'block' : 'none';\n",
              "        })();\n",
              "      </script>\n",
              "    </div>\n",
              "\n",
              "    </div>\n",
              "  </div>\n"
            ],
            "application/vnd.google.colaboratory.intrinsic+json": {
              "type": "dataframe",
              "summary": "{\n  \"name\": \"display(df\",\n  \"rows\": 5,\n  \"fields\": [\n    {\n      \"column\": \"Srno\",\n      \"properties\": {\n        \"dtype\": \"number\",\n        \"std\": 1,\n        \"min\": 1,\n        \"max\": 5,\n        \"num_unique_values\": 5,\n        \"samples\": [\n          2,\n          5,\n          3\n        ],\n        \"semantic_type\": \"\",\n        \"description\": \"\"\n      }\n    },\n    {\n      \"column\": \"RecipeName\",\n      \"properties\": {\n        \"dtype\": \"string\",\n        \"num_unique_values\": 5,\n        \"samples\": [\n          \"\\u091f\\u092e\\u093e\\u091f\\u0930 \\u092a\\u0941\\u0932\\u093f\\u092f\\u094b\\u0917\\u0930\\u0947 \\u0930\\u0947\\u0938\\u093f\\u092a\\u0940 - Spicy Tomato Rice (Recipe In Hindi)\",\n          \"\\u0906\\u0902\\u0927\\u094d\\u0930\\u093e \\u0938\\u094d\\u091f\\u093e\\u0907\\u0932 \\u0906\\u0932\\u092e \\u092a\\u091a\\u095c\\u0940 \\u0930\\u0947\\u0938\\u093f\\u092a\\u0940 - Adrak Chutney (Recipe In Hindi)\",\n          \"Ragi Semiya Upma Recipe - Ragi Millet Vermicelli Breakfast\"\n        ],\n        \"semantic_type\": \"\",\n        \"description\": \"\"\n      }\n    },\n    {\n      \"column\": \"TranslatedRecipeName\",\n      \"properties\": {\n        \"dtype\": \"string\",\n        \"num_unique_values\": 5,\n        \"samples\": [\n          \"Spicy Tomato Rice (Recipe)\",\n          \"Andhra Style Alam Pachadi Recipe - Adrak Chutney (Recipe)\",\n          \"Ragi Semiya Upma Recipe - Ragi Millet Vermicelli Breakfast\"\n        ],\n        \"semantic_type\": \"\",\n        \"description\": \"\"\n      }\n    },\n    {\n      \"column\": \"Ingredients\",\n      \"properties\": {\n        \"dtype\": \"string\",\n        \"num_unique_values\": 5,\n        \"samples\": [\n          \"2-1/2 \\u0915\\u092a \\u091a\\u093e\\u0935\\u0932 - \\u092a\\u0915\\u093e \\u0932\\u0947,3 \\u091f\\u092e\\u093e\\u091f\\u0930,3 \\u091b\\u094b\\u091f\\u093e \\u091a\\u092e\\u091a\\u094d\\u091a \\u092c\\u0940\\u0938\\u0940 \\u092c\\u0947\\u0932\\u0947 \\u092d\\u093e\\u0924 \\u092a\\u093e\\u0909\\u0921\\u0930,\\u0928\\u092e\\u0915 - \\u0938\\u094d\\u0935\\u093e\\u0926 \\u0905\\u0928\\u0941\\u0938\\u093e\\u0930,1 \\u091b\\u094b\\u091f\\u093e \\u091a\\u092e\\u091a\\u094d\\u091a \\u091a\\u0928\\u093e \\u0926\\u093e\\u0932,1/2 \\u091b\\u094b\\u091f\\u093e \\u091a\\u092e\\u091a\\u094d\\u091a \\u091c\\u0940\\u0930\\u093e,1 \\u091b\\u094b\\u091f\\u093e \\u091a\\u092e\\u091a\\u094d\\u091a \\u0938\\u095e\\u0947\\u0926 \\u0909\\u0930\\u0926 \\u0926\\u093e\\u0932,1/2 \\u091b\\u094b\\u091f\\u093e \\u091a\\u092e\\u091a\\u094d\\u091a \\u0930\\u093e\\u0907,1 \\u0939\\u0930\\u0940 \\u092e\\u093f\\u0930\\u094d\\u091a,1 \\u0938\\u0941\\u0916\\u0940 \\u0932\\u093e\\u0932 \\u092e\\u093f\\u0930\\u094d\\u091a,2 \\u091b\\u094b\\u091f\\u093e \\u091a\\u092e\\u091a\\u094d\\u091a \\u0915\\u093e\\u091c\\u0942 - \\u092f\\u093e \\u092e\\u0942\\u0902\\u0917\\u092b\\u0932\\u0940,1-1/2 \\u092c\\u095c\\u0947 \\u091a\\u092e\\u091a\\u094d\\u091a \\u0924\\u0947\\u0932 - \\u092a\\u094d\\u0930\\u092f\\u094b\\u0917 \\u0905\\u0928\\u0941\\u0938\\u093e\\u0930,1/2 \\u091b\\u094b\\u091f\\u093e \\u091a\\u092e\\u091a\\u094d\\u091a \\u0939\\u0940\\u0902\\u0917\",\n          \"1 \\u092c\\u095c\\u093e \\u091a\\u092e\\u091a\\u094d\\u091a \\u091a\\u0928\\u093e \\u0926\\u093e\\u0932,1 \\u092c\\u095c\\u093e \\u091a\\u092e\\u091a\\u094d\\u091a \\u0938\\u095e\\u0947\\u0926 \\u0909\\u0930\\u0926 \\u0926\\u093e\\u0932,2 \\u0938\\u0941\\u0916\\u0940 \\u0932\\u093e\\u0932 \\u092e\\u093f\\u0930\\u094d\\u091a,1 \\u092c\\u095c\\u093e \\u091a\\u092e\\u091a\\u094d\\u091a \\u0927\\u0928\\u093f\\u092f\\u0947 \\u0915\\u0947 \\u092c\\u0940\\u091c,3 \\u0907\\u0902\\u091a \\u0905\\u0926\\u0930\\u0915 - \\u0915\\u093e\\u091f \\u0932\\u0947,1 \\u092a\\u094d\\u092f\\u093e\\u091c - \\u0915\\u093e\\u091f \\u0932\\u0947,1 \\u091f\\u092e\\u093e\\u091f\\u0930 - \\u0915\\u093e\\u091f \\u0932\\u0947,\\u0928\\u092e\\u0915 - \\u0938\\u094d\\u0935\\u093e\\u0926 \\u0905\\u0928\\u0941\\u0938\\u093e\\u0930,1 \\u091b\\u094b\\u091f\\u093e \\u091a\\u092e\\u091a\\u094d\\u091a \\u0930\\u093e\\u0907,\\u0939\\u0940\\u0902\\u0917 - \\u091a\\u0941\\u091f\\u0915\\u0940 \\u092d\\u0930,\\u0924\\u0947\\u0932 - \\u092a\\u094d\\u0930\\u092f\\u094b\\u0917 \\u0905\\u0928\\u0941\\u0938\\u093e\\u0930,1 \\u091f\\u0939\\u0928\\u0940 \\u0915\\u095d\\u0940\",\n          \"1-1/2 cups Rice Vermicelli Noodles (Thin),1 Onion - sliced,1/2 cup Carrots (Gajjar) - chopped,1/3 cup Green peas (Matar),2 Green Chillies,1/4 teaspoon Asafoetida (hing),1 teaspoon Mustard seeds,1 teaspoon White Urad Dal (Split),1 teaspoon Ghee,1 sprig Curry leaves,Salt - to taste,1 teaspoon Lemon juice\"\n        ],\n        \"semantic_type\": \"\",\n        \"description\": \"\"\n      }\n    },\n    {\n      \"column\": \"TranslatedIngredients\",\n      \"properties\": {\n        \"dtype\": \"string\",\n        \"num_unique_values\": 5,\n        \"samples\": [\n          \"2-1 / 2 cups rice - cooked, 3 tomatoes, 3 teaspoons BC Belle Bhat powder, salt - as per taste, 1 teaspoon chickpea lentils, 1/2 teaspoon cumin seeds, 1 teaspoon white urad dal, 1/2 Teaspoon mustard, 1 green chilli, 1 dry red chilli, 2 teaspoon cashew - or peanuts, 1-1 / 2 tablespoon oil - 1/2 teaspoon asafoetida\",\n          \"1 tablespoon chana dal, 1 tablespoon white urad dal, 2 red chillies, 1 tablespoon coriander seeds, 3 inches ginger - chop, 1 onion - chop, 1 tomato - chop, salt - as per taste, 1 Teaspoon mustard, asafoetida - a pinch, oil - as per use, 1 sprig curry\",\n          \"1-1/2 cups Rice Vermicelli Noodles (Thin),1 Onion - sliced,1/2 cup Carrots (Gajjar) - chopped,1/3 cup Green peas (Matar),2 Green Chillies,1/4 teaspoon Asafoetida (hing),1 teaspoon Mustard seeds,1 teaspoon White Urad Dal (Split),1 teaspoon Ghee,1 sprig Curry leaves,Salt - to taste,1 teaspoon Lemon juice\"\n        ],\n        \"semantic_type\": \"\",\n        \"description\": \"\"\n      }\n    },\n    {\n      \"column\": \"PrepTimeInMins\",\n      \"properties\": {\n        \"dtype\": \"number\",\n        \"std\": 5,\n        \"min\": 5,\n        \"max\": 20,\n        \"num_unique_values\": 4,\n        \"samples\": [\n          5,\n          10,\n          15\n        ],\n        \"semantic_type\": \"\",\n        \"description\": \"\"\n      }\n    },\n    {\n      \"column\": \"CookTimeInMins\",\n      \"properties\": {\n        \"dtype\": \"number\",\n        \"std\": 8,\n        \"min\": 10,\n        \"max\": 30,\n        \"num_unique_values\": 3,\n        \"samples\": [\n          30,\n          10,\n          20\n        ],\n        \"semantic_type\": \"\",\n        \"description\": \"\"\n      }\n    },\n    {\n      \"column\": \"TotalTimeInMins\",\n      \"properties\": {\n        \"dtype\": \"number\",\n        \"std\": 14,\n        \"min\": 15,\n        \"max\": 50,\n        \"num_unique_values\": 4,\n        \"samples\": [\n          15,\n          30,\n          45\n        ],\n        \"semantic_type\": \"\",\n        \"description\": \"\"\n      }\n    },\n    {\n      \"column\": \"Servings\",\n      \"properties\": {\n        \"dtype\": \"number\",\n        \"std\": 1,\n        \"min\": 3,\n        \"max\": 6,\n        \"num_unique_values\": 3,\n        \"samples\": [\n          6,\n          3,\n          4\n        ],\n        \"semantic_type\": \"\",\n        \"description\": \"\"\n      }\n    },\n    {\n      \"column\": \"Cuisine\",\n      \"properties\": {\n        \"dtype\": \"string\",\n        \"num_unique_values\": 3,\n        \"samples\": [\n          \"Indian\",\n          \"South Indian Recipes\",\n          \"Andhra\"\n        ],\n        \"semantic_type\": \"\",\n        \"description\": \"\"\n      }\n    },\n    {\n      \"column\": \"Course\",\n      \"properties\": {\n        \"dtype\": \"string\",\n        \"num_unique_values\": 4,\n        \"samples\": [\n          \"Main Course\",\n          \"Lunch\",\n          \"Side Dish\"\n        ],\n        \"semantic_type\": \"\",\n        \"description\": \"\"\n      }\n    },\n    {\n      \"column\": \"Diet\",\n      \"properties\": {\n        \"dtype\": \"string\",\n        \"num_unique_values\": 4,\n        \"samples\": [\n          \"Vegetarian\",\n          \"Non Vegeterian\",\n          \"Diabetic Friendly\"\n        ],\n        \"semantic_type\": \"\",\n        \"description\": \"\"\n      }\n    },\n    {\n      \"column\": \"Instructions\",\n      \"properties\": {\n        \"dtype\": \"string\",\n        \"num_unique_values\": 5,\n        \"samples\": [\n          \"\\u091f\\u092e\\u093e\\u091f\\u0930 \\u092a\\u0941\\u0932\\u093f\\u092f\\u094b\\u0917\\u0930\\u0947 \\u092c\\u0928\\u093e\\u0928\\u0947 \\u0915\\u0947 \\u0932\\u093f\\u090f \\u0938\\u092c\\u0938\\u0947 \\u092a\\u0939\\u0932\\u0947 \\u091f\\u092e\\u093e\\u091f\\u0930 \\u0915\\u094b \\u0915\\u093e\\u091f \\u0932\\u0947. \\u0905\\u092c \\u090f\\u0915 \\u092e\\u093f\\u0915\\u094d\\u0938\\u0930 \\u0917\\u094d\\u0930\\u093e\\u0907\\u0902\\u0921\\u0930 \\u092e\\u0947\\u0902 \\u0921\\u093e\\u0932\\u0947 \\u0914\\u0930 \\u0909\\u0938\\u0915\\u0940 \\u092a\\u094d\\u092f\\u0942\\u0930\\u0940 \\u092c\\u0928\\u093e \\u0932\\u0947.\\u00a0\\u0905\\u092c \\u090f\\u0915 \\u0915\\u095d\\u093e\\u0908 \\u092e\\u0947\\u0902 \\u0924\\u0947\\u0932 \\u0917\\u0930\\u092e \\u0915\\u0930\\u0947\\u0902\\u0964 \\u0924\\u0947\\u0932 \\u0915\\u0947 \\u0917\\u0930\\u092e \\u0939\\u094b\\u0928\\u0947 \\u0915\\u0947 \\u092c\\u093e\\u0926 \\u0907\\u0938\\u092e\\u0947\\u0902 \\u091a\\u0928\\u093e \\u0926\\u093e\\u0932, \\u0909\\u0930\\u0926 \\u0926\\u093e\\u0932, \\u0915\\u093e\\u091c\\u0942 \\u0921\\u093e\\u0932\\u0947 \\u0914\\u0930 10 \\u0938\\u0947 20 \\u0938\\u0947\\u0915\\u0923\\u094d\\u0921\\u094d\\u0938 \\u0924\\u0915 \\u092a\\u0915\\u0928\\u0947 \\u0926\\u0947.\\u00a010 \\u0938\\u0947 20 \\u0938\\u0947\\u0915\\u0923\\u094d\\u0921\\u094d\\u0938 \\u0915\\u0947 \\u092c\\u093e\\u0926 \\u0907\\u0938\\u092e\\u0947\\u0902 \\u091c\\u0940\\u0930\\u093e, \\u0930\\u093e\\u0907, \\u0939\\u0930\\u0940 \\u092e\\u093f\\u0930\\u094d\\u091a, \\u0938\\u0941\\u0916\\u0940 \\u0932\\u093e\\u0932 \\u092e\\u093f\\u0930\\u094d\\u091a \\u0914\\u0930 \\u0915\\u095d\\u0940 \\u092a\\u0924\\u094d\\u0924\\u093e \\u0921\\u093e\\u0932\\u0947\\u0964\\u00a030 \\u0938\\u0947\\u0915\\u0923\\u094d\\u0921\\u094d\\u0938 \\u092c\\u093e\\u0926 \\u0907\\u0938\\u092e\\u0947\\u0902 \\u091f\\u092e\\u093e\\u091f\\u0930 \\u0915\\u0940 \\u092a\\u094d\\u092f\\u0942\\u0930\\u0940 \\u0921\\u093e\\u0932\\u0947 \\u0914\\u0930 \\u092e\\u093f\\u0932\\u093e \\u0932\\u0947. \\u0907\\u0938\\u092e\\u0947\\u0902 \\u092c\\u0940\\u0938\\u0940 \\u092c\\u0947\\u0932\\u0947 \\u092d\\u093e\\u0924 \\u092a\\u093e\\u0909\\u0921\\u0930, \\u0928\\u092e\\u0915 \\u0921\\u093e\\u0932\\u0947 \\u0914\\u0930 \\u092e\\u093f\\u0932\\u093e \\u0932\\u0947.\\u00a07 \\u0938\\u0947 8 \\u092e\\u093f\\u0928\\u091f \\u0915\\u0947 \\u0932\\u093f\\u090f \\u092a\\u0915\\u0928\\u0947 \\u0926\\u0947 \\u0914\\u0930 \\u092b\\u093f\\u0930 \\u0917\\u0948\\u0938 \\u092c\\u0902\\u0926 \\u0915\\u0930 \\u0926\\u0947. \\u0907\\u0938\\u0947 \\u090f\\u0915 \\u092c\\u093e\\u0909\\u0932 \\u092e\\u0947\\u0902 \\u0928\\u093f\\u0915\\u093e\\u0932\\u0947, \\u0907\\u0938\\u092e\\u0947\\u0902 \\u092a\\u0915\\u0947 \\u0939\\u0941\\u090f \\u091a\\u093e\\u0935\\u0932 \\u0921\\u093e\\u0932\\u0947 \\u0914\\u0930 \\u092e\\u093f\\u0932\\u093e \\u0932\\u0947. \\u0917\\u0930\\u092e\\u093e \\u0917\\u0930\\u092e \\u092a\\u0930\\u094b\\u0938\\u0947\\u0964\\u00a0\\u091f\\u092e\\u093e\\u091f\\u0930 \\u092a\\u0941\\u0932\\u093f\\u092f\\u094b\\u0917\\u0930\\u0947\\u00a0\\u0915\\u094b \\u091f\\u092e\\u093e\\u091f\\u0930 \\u0915\\u0915\\u095c\\u0940 \\u0930\\u093e\\u092f\\u0924\\u093e \\u0914\\u0930 \\u092a\\u093e\\u092a\\u095c \\u0915\\u0947 \\u0938\\u093e\\u0925 \\u0926\\u093f\\u0928 \\u0915\\u0947 \\u0916\\u093e\\u0928\\u0947 \\u0915\\u0947 \\u0932\\u093f\\u090f \\u092a\\u0930\\u094b\\u0938\\u0947\\u0964\\n\",\n          \"\\u0906\\u0902\\u0927\\u094d\\u0930\\u093e \\u0938\\u094d\\u091f\\u093e\\u0907\\u0932 \\u0906\\u0932\\u092e \\u092a\\u091a\\u095c\\u0940 \\u092c\\u0928\\u093e\\u0928\\u0947 \\u0915\\u0947 \\u0932\\u093f\\u090f \\u0938\\u092c\\u0938\\u0947 \\u092a\\u0939\\u0932\\u0947 \\u090f\\u0915 \\u0915\\u095d\\u093e\\u0908 \\u092e\\u0947\\u0902 \\u0924\\u0947\\u0932 \\u0917\\u0930\\u092e \\u0915\\u0930\\u0947 \\u0932\\u0947. \\u0907\\u0938\\u092e\\u0947\\u0902 \\u0926\\u093e\\u0932 \\u0921\\u093e\\u0932\\u0947 \\u0914\\u0930 \\u092d\\u0942\\u0930\\u093e \\u0939\\u094b\\u0928\\u0947 \\u0924\\u0915 \\u092a\\u0915\\u093e \\u0932\\u0947.\\u0905\\u092c \\u0907\\u0938\\u092e\\u0947\\u0902 \\u0938\\u0941\\u0916\\u0940 \\u0932\\u093e\\u0932 \\u092e\\u093f\\u0930\\u094d\\u091a, \\u0927\\u0928\\u093f\\u092f\\u0947 \\u0915\\u0947 \\u092c\\u0940\\u091c, \\u092a\\u094d\\u092f\\u093e\\u091c, \\u0905\\u0926\\u0930\\u0915 \\u0921\\u093e\\u0932\\u0947 \\u0914\\u0930 \\u092a\\u094d\\u092f\\u093e\\u091c \\u0915\\u0947 \\u0928\\u0930\\u092e \\u0939\\u094b\\u0928\\u0947 \\u0924\\u0915 \\u092a\\u0915\\u093e\\u090f\\u0964\\u00a0\\u092a\\u094d\\u092f\\u093e\\u091c \\u0915\\u0947 \\u092a\\u0915\\u0928\\u0947 \\u0915\\u0947 \\u092c\\u093e\\u0926, \\u0907\\u0938\\u092e\\u0947\\u0902 \\u091f\\u092e\\u093e\\u091f\\u0930 \\u0921\\u093e\\u0932\\u0947 \\u0914\\u0930 \\u091f\\u092e\\u093e\\u091f\\u0930 \\u0915\\u0947 \\u0928\\u0930\\u092e \\u0939\\u094b\\u0928\\u0947 \\u0924\\u0915 \\u092a\\u0915\\u093e \\u0932\\u0947. \\u0917\\u0948\\u0938 \\u092c\\u0902\\u0926 \\u0915\\u0930\\u0947\\u0902 \\u0914\\u0930 \\u0920\\u0902\\u0921\\u093e \\u0939\\u094b\\u0928\\u0947 \\u0926\\u0947. \\u0920\\u0902\\u0921\\u093e \\u0939\\u094b\\u0928\\u0947 \\u0915\\u0947 \\u092c\\u093e\\u0926 \\u0907\\u0938\\u0915\\u094b \\u090f\\u0915 \\u092e\\u093f\\u0915\\u094d\\u0938\\u0930 \\u0917\\u094d\\u0930\\u093e\\u0907\\u0902\\u0921\\u0930 \\u092e\\u0947\\u0902 \\u0921\\u093e\\u0932\\u0947 \\u0914\\u0930 \\u092a\\u0947\\u0938\\u094d\\u091f \\u092c\\u0928\\u093e \\u0932\\u0947.\\u00a0\\u00a0\\u0924\\u095c\\u0915\\u0947 \\u0915\\u0947 \\u0932\\u093f\\u090f, \\u090f\\u0915 \\u091b\\u094b\\u091f\\u0940 \\u0915\\u095d\\u093e\\u0908 \\u092e\\u0947\\u0902 \\u0924\\u0947\\u0932 \\u0917\\u0930\\u092e \\u0915\\u0930\\u0947\\u0902\\u0964 \\u0907\\u0938\\u092e\\u0947\\u0902 \\u0930\\u093e\\u0907 \\u0921\\u093e\\u0932\\u0947 \\u0914\\u0930 10 \\u0938\\u0947\\u0915\\u0923\\u094d\\u0921\\u094d\\u0938 \\u0924\\u0915 \\u092a\\u0915\\u0928\\u0947 \\u0926\\u0947. \\u0905\\u092c \\u0907\\u0938\\u092e\\u0947\\u0902 \\u0915\\u095d\\u0940 \\u092a\\u0924\\u094d\\u0924\\u093e, \\u0939\\u0940\\u0902\\u0917 \\u0921\\u093e\\u0932\\u0947 \\u0914\\u0930 10 \\u0938\\u0947\\u0915\\u0923\\u094d\\u0921\\u094d\\u0938 \\u0924\\u0915 \\u092a\\u0915\\u0928\\u0947 \\u0926\\u0947. \\u0907\\u0938\\u0947 \\u091a\\u091f\\u0928\\u0940 \\u092e\\u0947\\u0902 \\u0921\\u093e\\u0932\\u0947 \\u0914\\u0930 \\u092e\\u093f\\u0932\\u093e \\u0932\\u0947.\\u00a0\\u0906\\u0902\\u0927\\u094d\\u0930\\u093e \\u0938\\u094d\\u091f\\u093e\\u0907\\u0932 \\u0906\\u0932\\u092e \\u092a\\u091a\\u095c\\u0940 \\u0915\\u094b \\u0918\\u0940 \\u0930\\u094b\\u0938\\u094d\\u091f \\u0921\\u094b\\u0938\\u093e \\u0914\\u0930 \\u0915\\u093f\\u0930\\u0908 \\u0938\\u093e\\u0902\\u092c\\u0930 \\u0915\\u0947 \\u0938\\u093e\\u0925 \\u0938\\u0941\\u092c\\u0939 \\u0915\\u0947 \\u0928\\u093e\\u0936\\u094d\\u0924\\u0947 \\u0915\\u0947 \\u0932\\u093f\\u090f \\u092a\\u0930\\u094b\\u0938\\u0947\\u0964\\n\",\n          \"To begin making the Ragi Vermicelli Recipe, first steam the ragi vermicelli in a rice cooker or a steamer for about 5-6 minutes or till it is cooked but firm.Keep aside this aside till later use. You can add a few drops of oil and mix it so that they don't stick to each other.Place a kadai on the heat, add the ghee or oil to it and when warm add hing and allow it to sizzle for 30 seconds. Then follow it up with mustard seeds, urad dal and curry leaves, and allow them to crackle.Saute for 1 minute or so till the urad dal is slightly browned.Then, add onions and fry till translucent and soft.Next, add the green chillies along with par boiled carrots and peas. Sprinkle some salt and cook for 2-3 minutes or until the vegetables are semi cooked.Then, add the steamed ragi vermicelli toss it together so the vegetables are all well combined.Switch off the heat, take the vermicelli out into a serving dish and to with lemon juice. Mix well and serve along with\\u00a0Coconut Chutney\\u00a0and a hot cup of coffee or tea for a wholesome breakfast.\\n\"\n        ],\n        \"semantic_type\": \"\",\n        \"description\": \"\"\n      }\n    },\n    {\n      \"column\": \"TranslatedInstructions\",\n      \"properties\": {\n        \"dtype\": \"string\",\n        \"num_unique_values\": 5,\n        \"samples\": [\n          \"To make tomato puliogere, first cut the tomatoes. Now put in a mixer grinder and puree it. Now heat oil in a pan. After the oil is hot, add chana dal, urad dal, cashew and let it cook for 10 to 20 seconds. After 10 to 20 seconds, add cumin seeds, mustard seeds, green chillies, dry red chillies and curry leaves. After 30 seconds, add tomato puree to it and mix. Add BC Belle Bhat powder, salt and mix it. Allow to cook for 7 to 8 minutes and then turn off the gas. Take it out in a bowl, add cooked rice and mix it. Serve hot. Serve tomato puliogre with tomato cucumber raita and papad for dinner.\",\n          \"To make Andhra Style Alam Pachadi, first heat oil in a pan. Add lentils and cook till it turns brown. Now add dry red chillies, coriander seeds, onion, ginger and cook till the onion becomes soft. After the onion is cooked, add tomatoes and cook till the tomatoes become soft. Turn off the gas and allow it to cool. After it cools down, put it in a mixer grinder and make a paste. For tempering, heat the oil in a small pan. Add mustard seeds and let it cook for 10 seconds. Now add curry leaves, asafoetida and let it cook for 10 seconds. Add it to the chutney and mix. Serve Andhra Style Alam Pachadi with Ghee Roast Dosa and Kirai Sambar for breakfast.\",\n          \"To begin making the Ragi Vermicelli Recipe, first steam the ragi vermicelli in a rice cooker or a steamer for about 5-6 minutes or till it is cooked but firm.Keep aside this aside till later use. You can add a few drops of oil and mix it so that they don't stick to each other.Place a kadai on the heat, add the ghee or oil to it and when warm add hing and allow it to sizzle for 30 seconds. Then follow it up with mustard seeds, urad dal and curry leaves, and allow them to crackle.Saute for 1 minute or so till the urad dal is slightly browned.Then, add onions and fry till translucent and soft.Next, add the green chillies along with par boiled carrots and peas. Sprinkle some salt and cook for 2-3 minutes or until the vegetables are semi cooked.Then, add the steamed ragi vermicelli toss it together so the vegetables are all well combined.Switch off the heat, take the vermicelli out into a serving dish and to with lemon juice. Mix well and serve along with\\u00a0Coconut Chutney\\u00a0and a hot cup of coffee or tea for a wholesome breakfast.\"\n        ],\n        \"semantic_type\": \"\",\n        \"description\": \"\"\n      }\n    },\n    {\n      \"column\": \"URL\",\n      \"properties\": {\n        \"dtype\": \"string\",\n        \"num_unique_values\": 5,\n        \"samples\": [\n          \"http://www.archanaskitchen.com/spicy-tomato-rice-recipe-in-hindi\",\n          \"https://www.archanaskitchen.com/andhra-style-allam-pachadi-ginger-chutney-recipe-in-hindi\",\n          \"http://www.archanaskitchen.com/ragi-vermicelli-semiya-recipe-healthy-finger-millet-semiya-breakfast\"\n        ],\n        \"semantic_type\": \"\",\n        \"description\": \"\"\n      }\n    }\n  ]\n}"
            }
          },
          "metadata": {}
        }
      ]
    },
    {
      "cell_type": "code",
      "source": [
        "df.shape"
      ],
      "metadata": {
        "colab": {
          "base_uri": "https://localhost:8080/"
        },
        "id": "HLeJx1oaIAz8",
        "outputId": "1d22c252-7eaa-4061-e855-63060fc8536d"
      },
      "execution_count": 38,
      "outputs": [
        {
          "output_type": "execute_result",
          "data": {
            "text/plain": [
              "(6871, 15)"
            ]
          },
          "metadata": {},
          "execution_count": 38
        }
      ]
    },
    {
      "cell_type": "code",
      "source": [
        "df.info()"
      ],
      "metadata": {
        "colab": {
          "base_uri": "https://localhost:8080/"
        },
        "id": "UQYRbr87IF-n",
        "outputId": "5fb43239-1071-4e86-f660-4bc3198a0c8a"
      },
      "execution_count": 39,
      "outputs": [
        {
          "output_type": "stream",
          "name": "stdout",
          "text": [
            "<class 'pandas.core.frame.DataFrame'>\n",
            "RangeIndex: 6871 entries, 0 to 6870\n",
            "Data columns (total 15 columns):\n",
            " #   Column                  Non-Null Count  Dtype \n",
            "---  ------                  --------------  ----- \n",
            " 0   Srno                    6871 non-null   int64 \n",
            " 1   RecipeName              6871 non-null   object\n",
            " 2   TranslatedRecipeName    6871 non-null   object\n",
            " 3   Ingredients             6865 non-null   object\n",
            " 4   TranslatedIngredients   6865 non-null   object\n",
            " 5   PrepTimeInMins          6871 non-null   int64 \n",
            " 6   CookTimeInMins          6871 non-null   int64 \n",
            " 7   TotalTimeInMins         6871 non-null   int64 \n",
            " 8   Servings                6871 non-null   int64 \n",
            " 9   Cuisine                 6871 non-null   object\n",
            " 10  Course                  6871 non-null   object\n",
            " 11  Diet                    6871 non-null   object\n",
            " 12  Instructions            6871 non-null   object\n",
            " 13  TranslatedInstructions  6871 non-null   object\n",
            " 14  URL                     6871 non-null   object\n",
            "dtypes: int64(5), object(10)\n",
            "memory usage: 805.3+ KB\n"
          ]
        }
      ]
    },
    {
      "cell_type": "code",
      "source": [
        "df.columns"
      ],
      "metadata": {
        "colab": {
          "base_uri": "https://localhost:8080/"
        },
        "id": "2xwQI8PyIH4M",
        "outputId": "c63be3e6-c203-4326-c86c-6c078f32bd0b"
      },
      "execution_count": 40,
      "outputs": [
        {
          "output_type": "execute_result",
          "data": {
            "text/plain": [
              "Index(['Srno', 'RecipeName', 'TranslatedRecipeName', 'Ingredients',\n",
              "       'TranslatedIngredients', 'PrepTimeInMins', 'CookTimeInMins',\n",
              "       'TotalTimeInMins', 'Servings', 'Cuisine', 'Course', 'Diet',\n",
              "       'Instructions', 'TranslatedInstructions', 'URL'],\n",
              "      dtype='object')"
            ]
          },
          "metadata": {},
          "execution_count": 40
        }
      ]
    },
    {
      "cell_type": "code",
      "source": [
        "columns_to_drop = ['Srno', 'TranslatedRecipeName', 'TranslatedIngredients', 'TranslatedInstructions']\n",
        "existing_columns_to_drop = [col for col in columns_to_drop if col in df.columns]\n",
        "\n",
        "if existing_columns_to_drop:\n",
        "  print(f\"\\nDropping unnecessary columns: {existing_columns_to_drop}...\")\n",
        "  df = df.drop(columns=existing_columns_to_drop)\n",
        "else:\n",
        "  print(\"\\nNo unnecessary columns to drop (or they were already removed).\")"
      ],
      "metadata": {
        "colab": {
          "base_uri": "https://localhost:8080/"
        },
        "id": "pnMPCYoyIQjn",
        "outputId": "ffeabbd3-f0be-4062-9568-f09f9780c245"
      },
      "execution_count": 41,
      "outputs": [
        {
          "output_type": "stream",
          "name": "stdout",
          "text": [
            "\n",
            "Dropping unnecessary columns: ['Srno', 'TranslatedRecipeName', 'TranslatedIngredients', 'TranslatedInstructions']...\n"
          ]
        }
      ]
    },
    {
      "cell_type": "code",
      "source": [
        "df.shape"
      ],
      "metadata": {
        "colab": {
          "base_uri": "https://localhost:8080/"
        },
        "id": "PjQLp5oRITpT",
        "outputId": "216196a0-aedd-413d-f212-b1883bb6146b"
      },
      "execution_count": 42,
      "outputs": [
        {
          "output_type": "execute_result",
          "data": {
            "text/plain": [
              "(6871, 11)"
            ]
          },
          "metadata": {},
          "execution_count": 42
        }
      ]
    },
    {
      "cell_type": "code",
      "source": [
        "df.info()"
      ],
      "metadata": {
        "colab": {
          "base_uri": "https://localhost:8080/"
        },
        "id": "SnCe-sLbIlOT",
        "outputId": "ce41c3eb-75e3-4832-951b-1bee8d0d27e7"
      },
      "execution_count": 43,
      "outputs": [
        {
          "output_type": "stream",
          "name": "stdout",
          "text": [
            "<class 'pandas.core.frame.DataFrame'>\n",
            "RangeIndex: 6871 entries, 0 to 6870\n",
            "Data columns (total 11 columns):\n",
            " #   Column           Non-Null Count  Dtype \n",
            "---  ------           --------------  ----- \n",
            " 0   RecipeName       6871 non-null   object\n",
            " 1   Ingredients      6865 non-null   object\n",
            " 2   PrepTimeInMins   6871 non-null   int64 \n",
            " 3   CookTimeInMins   6871 non-null   int64 \n",
            " 4   TotalTimeInMins  6871 non-null   int64 \n",
            " 5   Servings         6871 non-null   int64 \n",
            " 6   Cuisine          6871 non-null   object\n",
            " 7   Course           6871 non-null   object\n",
            " 8   Diet             6871 non-null   object\n",
            " 9   Instructions     6871 non-null   object\n",
            " 10  URL              6871 non-null   object\n",
            "dtypes: int64(4), object(7)\n",
            "memory usage: 590.6+ KB\n"
          ]
        }
      ]
    },
    {
      "cell_type": "code",
      "source": [
        "if 'RecipeName' in df.columns:\n",
        "  print(f\"\\nInitial row count: {len(df)}\")\n",
        "  duplicate_count = df.duplicated(subset=['RecipeName']).sum()\n",
        "  print(f\"Found {duplicate_count} duplicate recipes based on 'RecipeName'. Removing them...\")\n",
        "  df = df.drop_duplicates(subset=['RecipeName'], keep='first')\n",
        "  print(f\"Row count after removing duplicates: {len(df)}\")\n",
        "else:\n",
        "  print(\"\\nWarning: 'RecipeName' column not found. Skipping duplicate removal step.\")"
      ],
      "metadata": {
        "colab": {
          "base_uri": "https://localhost:8080/"
        },
        "id": "kn2fMJ0-JHg9",
        "outputId": "f2a041b5-3c3d-4d36-cd1b-d64f14ae920a"
      },
      "execution_count": 44,
      "outputs": [
        {
          "output_type": "stream",
          "name": "stdout",
          "text": [
            "\n",
            "Initial row count: 6871\n",
            "Found 0 duplicate recipes based on 'RecipeName'. Removing them...\n",
            "Row count after removing duplicates: 6871\n"
          ]
        }
      ]
    },
    {
      "cell_type": "code",
      "source": [
        "df.isnull().sum()"
      ],
      "metadata": {
        "colab": {
          "base_uri": "https://localhost:8080/",
          "height": 429
        },
        "id": "lM_hYV2dOAqA",
        "outputId": "cd0db28c-9096-47b3-d319-45287d8a7904"
      },
      "execution_count": 45,
      "outputs": [
        {
          "output_type": "execute_result",
          "data": {
            "text/plain": [
              "RecipeName         0\n",
              "Ingredients        6\n",
              "PrepTimeInMins     0\n",
              "CookTimeInMins     0\n",
              "TotalTimeInMins    0\n",
              "Servings           0\n",
              "Cuisine            0\n",
              "Course             0\n",
              "Diet               0\n",
              "Instructions       0\n",
              "URL                0\n",
              "dtype: int64"
            ],
            "text/html": [
              "<div>\n",
              "<style scoped>\n",
              "    .dataframe tbody tr th:only-of-type {\n",
              "        vertical-align: middle;\n",
              "    }\n",
              "\n",
              "    .dataframe tbody tr th {\n",
              "        vertical-align: top;\n",
              "    }\n",
              "\n",
              "    .dataframe thead th {\n",
              "        text-align: right;\n",
              "    }\n",
              "</style>\n",
              "<table border=\"1\" class=\"dataframe\">\n",
              "  <thead>\n",
              "    <tr style=\"text-align: right;\">\n",
              "      <th></th>\n",
              "      <th>0</th>\n",
              "    </tr>\n",
              "  </thead>\n",
              "  <tbody>\n",
              "    <tr>\n",
              "      <th>RecipeName</th>\n",
              "      <td>0</td>\n",
              "    </tr>\n",
              "    <tr>\n",
              "      <th>Ingredients</th>\n",
              "      <td>6</td>\n",
              "    </tr>\n",
              "    <tr>\n",
              "      <th>PrepTimeInMins</th>\n",
              "      <td>0</td>\n",
              "    </tr>\n",
              "    <tr>\n",
              "      <th>CookTimeInMins</th>\n",
              "      <td>0</td>\n",
              "    </tr>\n",
              "    <tr>\n",
              "      <th>TotalTimeInMins</th>\n",
              "      <td>0</td>\n",
              "    </tr>\n",
              "    <tr>\n",
              "      <th>Servings</th>\n",
              "      <td>0</td>\n",
              "    </tr>\n",
              "    <tr>\n",
              "      <th>Cuisine</th>\n",
              "      <td>0</td>\n",
              "    </tr>\n",
              "    <tr>\n",
              "      <th>Course</th>\n",
              "      <td>0</td>\n",
              "    </tr>\n",
              "    <tr>\n",
              "      <th>Diet</th>\n",
              "      <td>0</td>\n",
              "    </tr>\n",
              "    <tr>\n",
              "      <th>Instructions</th>\n",
              "      <td>0</td>\n",
              "    </tr>\n",
              "    <tr>\n",
              "      <th>URL</th>\n",
              "      <td>0</td>\n",
              "    </tr>\n",
              "  </tbody>\n",
              "</table>\n",
              "</div><br><label><b>dtype:</b> int64</label>"
            ]
          },
          "metadata": {},
          "execution_count": 45
        }
      ]
    },
    {
      "cell_type": "code",
      "source": [
        "numeric_cols = ['PrepTimeInMins', 'CookTimeInMins', 'TotalTimeInMins', 'Servings']\n",
        "existing_numeric_cols = [col for col in numeric_cols if col in df.columns]\n",
        "\n",
        "for col in existing_numeric_cols:\n",
        "  plt.figure(figsize=(6,4))\n",
        "  sns.histplot(y=df[col],kde=True, bins=20)"
      ],
      "metadata": {
        "colab": {
          "base_uri": "https://localhost:8080/",
          "height": 1000
        },
        "id": "0pJ47uLiPSYK",
        "outputId": "678d5bfb-47f4-43bd-d70f-d71a60b3bbc3"
      },
      "execution_count": 46,
      "outputs": [
        {
          "output_type": "display_data",
          "data": {
            "text/plain": [
              "<Figure size 600x400 with 1 Axes>"
            ],
            "image/png": "[encoded data removed]"
          },
          "metadata": {}
        },
        {
          "output_type": "display_data",
          "data": {
            "text/plain": [
              "<Figure size 600x400 with 1 Axes>"
            ],
            "image/png": "[encoded data removed]"
          },
          "metadata": {}
        },
        {
          "output_type": "display_data",
          "data": {
            "text/plain": [
              "<Figure size 600x400 with 1 Axes>"
            ],
            "image/png": "[encoded data removed]"
          },
          "metadata": {}
        },
        {
          "output_type": "display_data",
          "data": {
            "text/plain": [
              "<Figure size 600x400 with 1 Axes>"
            ],
            "image/png": "[encoded data removed]"
          },
          "metadata": {}
        }
      ]
    },
    {
      "cell_type": "code",
      "source": [
        "if existing_numeric_cols:\n",
        "  for col in existing_numeric_cols:\n",
        "    if df[col].isnull().any():\n",
        "      median_val = df[col].median()\n",
        "      if col in ['Servings'] and not pd.isna(median_val):\n",
        "        median_val = int(median_val)\n",
        "      elif not pd.isna(median_val):\n",
        "        pass\n",
        "      if pd.isna(median_val):\n",
        "        median_val = 0\n",
        "\n",
        "      df[col] = df[col].fillna(median_val)\n",
        "      print(f\"Imputed missing values in '{col}' with median: {median_val}\")"
      ],
      "metadata": {
        "id": "emc9r4IHTqui"
      },
      "execution_count": 47,
      "outputs": []
    },
    {
      "cell_type": "code",
      "source": [
        "initial_row_count = len(df)\n",
        "\n",
        "indices_to_drop = df[df['TotalTimeInMins'] == 0].index\n",
        "rows_to_drop_count = len(indices_to_drop)\n",
        "if rows_to_drop_count > 0:\n",
        "        print(f\"Found {rows_to_drop_count} rows to drop.\")\n",
        "        df.drop(indices_to_drop, inplace=True)\n",
        "else:\n",
        "        print(\"No rows found where 'TotalTimeInMins' is 0. No changes needed.\")"
      ],
      "metadata": {
        "colab": {
          "base_uri": "https://localhost:8080/"
        },
        "id": "Lmo5gTVZVAZC",
        "outputId": "4cc2c7ae-96fb-4b1a-ac84-255e461aac6e"
      },
      "execution_count": 48,
      "outputs": [
        {
          "output_type": "stream",
          "name": "stdout",
          "text": [
            "Found 3 rows to drop.\n"
          ]
        }
      ]
    },
    {
      "cell_type": "code",
      "source": [
        "df.shape"
      ],
      "metadata": {
        "colab": {
          "base_uri": "https://localhost:8080/"
        },
        "id": "lTWFkpoUVLLJ",
        "outputId": "d11b9d7b-d74d-4b04-9fc0-4a10d937ca5b"
      },
      "execution_count": 49,
      "outputs": [
        {
          "output_type": "execute_result",
          "data": {
            "text/plain": [
              "(6868, 11)"
            ]
          },
          "metadata": {},
          "execution_count": 49
        }
      ]
    },
    {
      "cell_type": "code",
      "source": [
        "df.isnull().sum()"
      ],
      "metadata": {
        "colab": {
          "base_uri": "https://localhost:8080/",
          "height": 429
        },
        "id": "YEmzQXF0dTXw",
        "outputId": "02542eb3-0db2-4bc5-d53f-2f0d65aff509"
      },
      "execution_count": 50,
      "outputs": [
        {
          "output_type": "execute_result",
          "data": {
            "text/plain": [
              "RecipeName         0\n",
              "Ingredients        6\n",
              "PrepTimeInMins     0\n",
              "CookTimeInMins     0\n",
              "TotalTimeInMins    0\n",
              "Servings           0\n",
              "Cuisine            0\n",
              "Course             0\n",
              "Diet               0\n",
              "Instructions       0\n",
              "URL                0\n",
              "dtype: int64"
            ],
            "text/html": [
              "<div>\n",
              "<style scoped>\n",
              "    .dataframe tbody tr th:only-of-type {\n",
              "        vertical-align: middle;\n",
              "    }\n",
              "\n",
              "    .dataframe tbody tr th {\n",
              "        vertical-align: top;\n",
              "    }\n",
              "\n",
              "    .dataframe thead th {\n",
              "        text-align: right;\n",
              "    }\n",
              "</style>\n",
              "<table border=\"1\" class=\"dataframe\">\n",
              "  <thead>\n",
              "    <tr style=\"text-align: right;\">\n",
              "      <th></th>\n",
              "      <th>0</th>\n",
              "    </tr>\n",
              "  </thead>\n",
              "  <tbody>\n",
              "    <tr>\n",
              "      <th>RecipeName</th>\n",
              "      <td>0</td>\n",
              "    </tr>\n",
              "    <tr>\n",
              "      <th>Ingredients</th>\n",
              "      <td>6</td>\n",
              "    </tr>\n",
              "    <tr>\n",
              "      <th>PrepTimeInMins</th>\n",
              "      <td>0</td>\n",
              "    </tr>\n",
              "    <tr>\n",
              "      <th>CookTimeInMins</th>\n",
              "      <td>0</td>\n",
              "    </tr>\n",
              "    <tr>\n",
              "      <th>TotalTimeInMins</th>\n",
              "      <td>0</td>\n",
              "    </tr>\n",
              "    <tr>\n",
              "      <th>Servings</th>\n",
              "      <td>0</td>\n",
              "    </tr>\n",
              "    <tr>\n",
              "      <th>Cuisine</th>\n",
              "      <td>0</td>\n",
              "    </tr>\n",
              "    <tr>\n",
              "      <th>Course</th>\n",
              "      <td>0</td>\n",
              "    </tr>\n",
              "    <tr>\n",
              "      <th>Diet</th>\n",
              "      <td>0</td>\n",
              "    </tr>\n",
              "    <tr>\n",
              "      <th>Instructions</th>\n",
              "      <td>0</td>\n",
              "    </tr>\n",
              "    <tr>\n",
              "      <th>URL</th>\n",
              "      <td>0</td>\n",
              "    </tr>\n",
              "  </tbody>\n",
              "</table>\n",
              "</div><br><label><b>dtype:</b> int64</label>"
            ]
          },
          "metadata": {},
          "execution_count": 50
        }
      ]
    },
    {
      "cell_type": "code",
      "source": [
        "print(\"\\n--- Dropping rows with null 'Ingredients' ---\")\n",
        "rows_before_drop = len(df)\n",
        "\n",
        "df.dropna(subset=['Ingredients'], inplace=True)\n",
        "rows_dropped_null_ingredients = rows_before_drop - len(df)\n",
        "print(f\"Dropped {rows_dropped_null_ingredients} rows where 'Ingredients' was null.\")\n",
        "print(f\"Row count is now: {len(df)}\")"
      ],
      "metadata": {
        "colab": {
          "base_uri": "https://localhost:8080/"
        },
        "id": "miyzt_cseRY0",
        "outputId": "434ca7d5-c61e-4bdf-d85a-074c0f17b1be"
      },
      "execution_count": 51,
      "outputs": [
        {
          "output_type": "stream",
          "name": "stdout",
          "text": [
            "\n",
            "--- Dropping rows with null 'Ingredients' ---\n",
            "Dropped 6 rows where 'Ingredients' was null.\n",
            "Row count is now: 6862\n"
          ]
        }
      ]
    },
    {
      "cell_type": "code",
      "source": [
        "df.shape"
      ],
      "metadata": {
        "colab": {
          "base_uri": "https://localhost:8080/"
        },
        "id": "mp68cAwijZpO",
        "outputId": "dd99e4e6-7aaf-4476-bd18-4a1f3f0d1ca3"
      },
      "execution_count": 52,
      "outputs": [
        {
          "output_type": "execute_result",
          "data": {
            "text/plain": [
              "(6862, 11)"
            ]
          },
          "metadata": {},
          "execution_count": 52
        }
      ]
    },
    {
      "cell_type": "code",
      "source": [
        "df.isnull().sum()"
      ],
      "metadata": {
        "colab": {
          "base_uri": "https://localhost:8080/",
          "height": 429
        },
        "id": "xC5VCKiTjbGK",
        "outputId": "cfe78116-f5f4-4830-e0d6-0f90fca38ba8"
      },
      "execution_count": 53,
      "outputs": [
        {
          "output_type": "execute_result",
          "data": {
            "text/plain": [
              "RecipeName         0\n",
              "Ingredients        0\n",
              "PrepTimeInMins     0\n",
              "CookTimeInMins     0\n",
              "TotalTimeInMins    0\n",
              "Servings           0\n",
              "Cuisine            0\n",
              "Course             0\n",
              "Diet               0\n",
              "Instructions       0\n",
              "URL                0\n",
              "dtype: int64"
            ],
            "text/html": [
              "<div>\n",
              "<style scoped>\n",
              "    .dataframe tbody tr th:only-of-type {\n",
              "        vertical-align: middle;\n",
              "    }\n",
              "\n",
              "    .dataframe tbody tr th {\n",
              "        vertical-align: top;\n",
              "    }\n",
              "\n",
              "    .dataframe thead th {\n",
              "        text-align: right;\n",
              "    }\n",
              "</style>\n",
              "<table border=\"1\" class=\"dataframe\">\n",
              "  <thead>\n",
              "    <tr style=\"text-align: right;\">\n",
              "      <th></th>\n",
              "      <th>0</th>\n",
              "    </tr>\n",
              "  </thead>\n",
              "  <tbody>\n",
              "    <tr>\n",
              "      <th>RecipeName</th>\n",
              "      <td>0</td>\n",
              "    </tr>\n",
              "    <tr>\n",
              "      <th>Ingredients</th>\n",
              "      <td>0</td>\n",
              "    </tr>\n",
              "    <tr>\n",
              "      <th>PrepTimeInMins</th>\n",
              "      <td>0</td>\n",
              "    </tr>\n",
              "    <tr>\n",
              "      <th>CookTimeInMins</th>\n",
              "      <td>0</td>\n",
              "    </tr>\n",
              "    <tr>\n",
              "      <th>TotalTimeInMins</th>\n",
              "      <td>0</td>\n",
              "    </tr>\n",
              "    <tr>\n",
              "      <th>Servings</th>\n",
              "      <td>0</td>\n",
              "    </tr>\n",
              "    <tr>\n",
              "      <th>Cuisine</th>\n",
              "      <td>0</td>\n",
              "    </tr>\n",
              "    <tr>\n",
              "      <th>Course</th>\n",
              "      <td>0</td>\n",
              "    </tr>\n",
              "    <tr>\n",
              "      <th>Diet</th>\n",
              "      <td>0</td>\n",
              "    </tr>\n",
              "    <tr>\n",
              "      <th>Instructions</th>\n",
              "      <td>0</td>\n",
              "    </tr>\n",
              "    <tr>\n",
              "      <th>URL</th>\n",
              "      <td>0</td>\n",
              "    </tr>\n",
              "  </tbody>\n",
              "</table>\n",
              "</div><br><label><b>dtype:</b> int64</label>"
            ]
          },
          "metadata": {},
          "execution_count": 53
        }
      ]
    },
    {
      "cell_type": "code",
      "source": [
        "df.info()"
      ],
      "metadata": {
        "colab": {
          "base_uri": "https://localhost:8080/"
        },
        "id": "om68-DFsjeUk",
        "outputId": "9034a078-bf7c-4bf4-9b9a-f1bc92037e88"
      },
      "execution_count": 54,
      "outputs": [
        {
          "output_type": "stream",
          "name": "stdout",
          "text": [
            "<class 'pandas.core.frame.DataFrame'>\n",
            "Index: 6862 entries, 0 to 6870\n",
            "Data columns (total 11 columns):\n",
            " #   Column           Non-Null Count  Dtype \n",
            "---  ------           --------------  ----- \n",
            " 0   RecipeName       6862 non-null   object\n",
            " 1   Ingredients      6862 non-null   object\n",
            " 2   PrepTimeInMins   6862 non-null   int64 \n",
            " 3   CookTimeInMins   6862 non-null   int64 \n",
            " 4   TotalTimeInMins  6862 non-null   int64 \n",
            " 5   Servings         6862 non-null   int64 \n",
            " 6   Cuisine          6862 non-null   object\n",
            " 7   Course           6862 non-null   object\n",
            " 8   Diet             6862 non-null   object\n",
            " 9   Instructions     6862 non-null   object\n",
            " 10  URL              6862 non-null   object\n",
            "dtypes: int64(4), object(7)\n",
            "memory usage: 643.3+ KB\n"
          ]
        }
      ]
    },
    {
      "cell_type": "code",
      "metadata": {
        "id": "24b9330e"
      },
      "source": [
        "output_drive_path = '/content/drive/My Drive/refined_indian_food_dataset.csv'\n",
        "df.to_csv(output_drive_path, index=False)"
      ],
      "execution_count": 55,
      "outputs": []
    }
  ]
}